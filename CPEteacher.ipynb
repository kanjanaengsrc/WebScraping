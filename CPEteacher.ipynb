{
  "nbformat": 4,
  "nbformat_minor": 0,
  "metadata": {
    "colab": {
      "name": "CPEteacher.ipynb",
      "provenance": [],
      "authorship_tag": "ABX9TyMTy5izkQgbdT4YSyhg9CJj",
      "include_colab_link": true
    },
    "kernelspec": {
      "name": "python3",
      "display_name": "Python 3"
    }
  },
  "cells": [
    {
      "cell_type": "markdown",
      "metadata": {
        "id": "view-in-github",
        "colab_type": "text"
      },
      "source": [
        "<a href=\"https://colab.research.google.com/github/kanjanaengsrc/WebScraping/blob/master/CPEteacher.ipynb\" target=\"_parent\"><img src=\"https://colab.research.google.com/assets/colab-badge.svg\" alt=\"Open In Colab\"/></a>"
      ]
    },
    {
      "cell_type": "code",
      "metadata": {
        "id": "eEJq2xtJdriO",
        "colab_type": "code",
        "colab": {}
      },
      "source": [
        "import requests\n",
        "import urllib.parse\n",
        "from bs4 import BeautifulSoup"
      ],
      "execution_count": 0,
      "outputs": []
    },
    {
      "cell_type": "code",
      "metadata": {
        "id": "1-RTnrmDfCFr",
        "colab_type": "code",
        "colab": {}
      },
      "source": [
        "def readHtml(url):\n",
        "  headers = {'User-Agent':'Scraping-Bot'}\n",
        "  response = requests.get(url,headers=headers)\n",
        "  if(response.status_code != 200):\n",
        "    return None\n",
        "  else:\n",
        "    response.encoding = 'utf-8'\n",
        "  return response.text"
      ],
      "execution_count": 0,
      "outputs": []
    },
    {
      "cell_type": "code",
      "metadata": {
        "id": "2w5HRhMRfE0m",
        "colab_type": "code",
        "colab": {}
      },
      "source": [
        "url = 'http://www.eng.src.ku.ac.th/eng_cpe/'\n",
        "data = readHtml(url).replace('\\n','')\n",
        "soup = BeautifulSoup(data,'html.parser')"
      ],
      "execution_count": 0,
      "outputs": []
    },
    {
      "cell_type": "code",
      "metadata": {
        "id": "Dhrvw11QgmYW",
        "colab_type": "code",
        "colab": {}
      },
      "source": [
        "teacher = []\n",
        "values = soup.find('div',attrs={\n",
        "    'class':'entry-content'\n",
        "})\n",
        "for value in values.children:\n",
        "  if(value.next_element.find('a') != None):\n",
        "    teacher.append(value.next_element.find('a').get_text())"
      ],
      "execution_count": 0,
      "outputs": []
    },
    {
      "cell_type": "code",
      "metadata": {
        "id": "p15Ag8X6hgk-",
        "colab_type": "code",
        "colab": {}
      },
      "source": [
        "position = []\n",
        "values = soup.find('p',string='ตำแหน่ง')\n",
        "for val in values.find_all_next('p'):\n",
        "  position.append(val.get_text())"
      ],
      "execution_count": 0,
      "outputs": []
    },
    {
      "cell_type": "code",
      "metadata": {
        "id": "_2fIKmFim4t5",
        "colab_type": "code",
        "colab": {
          "base_uri": "https://localhost:8080/",
          "height": 357
        },
        "outputId": "cad2c002-7e63-465c-9422-96321e0283b2"
      },
      "source": [
        "for i in range(len(teacher)):\n",
        "  print(teacher[i], ' <--> ',position[i])"
      ],
      "execution_count": 6,
      "outputs": [
        {
          "output_type": "stream",
          "text": [
            "ผศ.ดร.ประวิทย์ ชุมชู  <-->  หัวหน้าภาควิชาวิศวกรรมคอมพิวเตอร์\n",
            "อ.กรวิทย์ ออกผล  <-->  อาจารย์ประจำ\n",
            "อ.กาญจนา เอี่ยมสอาด  <-->  อาจารย์ประจำ\n",
            "ผศ.ดร.กุลวดี สมบูรณ์วิวัฒน์  <-->  อาจารย์ประจำ\n",
            "อ.คทาวัชร เสถียรปกิรณกรณ์  <-->  อาจารย์ประจำ\n",
            "อ.จิรวัฒน์ จิตประสูตวิทย์  <-->  อาจารย์ประจำ\n",
            "ดร.ฐนียา สัตยพานิช  <-->  อาจารย์ประจำ\n",
            "ดร.ณัฐพล พันนุรัตน์  <-->  อาจารย์ประจำ\n",
            "อ.ณัฏฐ์ อรุณ  <-->  อาจารย์ประจำ\n",
            "อ.ธรรมนุวัฒน์ วาลีประโคน  <-->  อาจารย์ประจำ\n",
            "อ.ประสิทธิชัย ณรงค์เลิศฤทธิ์  <-->  อาจารย์ประจำ\n",
            "อ.ปุณณะ ยศปัญญา  <-->  อาจารย์ประจำ\n",
            "ผศ.เพ็ญพรรณ ใช้ฮวดเจริญ  <-->  อาจารย์ประจำ\n",
            "อ.ไพรัช สร้อยทอง  <-->  อาจารย์ประจำ\n",
            "ผศ.วัชรพัฐ เมตตานันท  <-->  อาจารย์ประจำ\n",
            "รศ.ดร.อนันต์ บรรหารสกุล  <-->  อาจารย์ประจำ\n",
            "ดร.อดิศักดิ์ สุภีสุน  <-->  อาจารย์ประจำ\n",
            "ดร.นันทา จันทร์พิทักษ์  <-->  อาจารย์ประจำ\n",
            "ดร.มนตรี โพธิโสโนทัย  <-->  อาจารย์ประจำ\n",
            "นายพงศธร ถมยา  <-->  ช่างเครื่องคอมพิวเตอร์ \n"
          ],
          "name": "stdout"
        }
      ]
    }
  ]
}