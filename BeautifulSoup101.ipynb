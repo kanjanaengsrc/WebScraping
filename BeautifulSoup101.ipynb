{
  "nbformat": 4,
  "nbformat_minor": 0,
  "metadata": {
    "colab": {
      "name": "BeautifulSoup101.ipynb",
      "provenance": [],
      "collapsed_sections": [],
      "authorship_tag": "ABX9TyOzK53LxK+PQ9o5N0PuErtD",
      "include_colab_link": true
    },
    "kernelspec": {
      "name": "python3",
      "display_name": "Python 3"
    }
  },
  "cells": [
    {
      "cell_type": "markdown",
      "metadata": {
        "id": "view-in-github",
        "colab_type": "text"
      },
      "source": [
        "<a href=\"https://colab.research.google.com/github/kanjanaengsrc/WebScraping/blob/master/BeautifulSoup101.ipynb\" target=\"_parent\"><img src=\"https://colab.research.google.com/assets/colab-badge.svg\" alt=\"Open In Colab\"/></a>"
      ]
    },
    {
      "cell_type": "markdown",
      "metadata": {
        "id": "f-O3D8M-WNBb",
        "colab_type": "text"
      },
      "source": [
        "# การดึงข้อมูลจากเว็บไซต์ด้วยไพธอนและไลบรารี Beautiful Soup Version 4 (BS4)\n"
      ]
    },
    {
      "cell_type": "markdown",
      "metadata": {
        "id": "g4xeUmMvCrvk",
        "colab_type": "text"
      },
      "source": [
        "*   ใช้ module สำหรับอ่านข้อมูลจาก url ที่ระบุด้วย urllib และ request\n",
        "*   ใช้ module BeautifulSoup (BS4) สำหรับอ่าน DOM\n",
        "\n",
        "\n",
        "/*** เสริม!! หากต้องการดูลำดับและค้นหา tag name ต่าง ๆ ใน html code เราสามารถใช้โค้ด JS ต่อไปนี้ ไปรันใน browser console **/\n",
        "\n",
        "\n",
        "```\n",
        "var i = 1;\n",
        "[].forEach.call(document.getElementsByTagName(\"TAGNAME\"),\n",
        "   function(x) { \n",
        "     console.log(i++, x); \n",
        "   });\n",
        "```"
      ]
    },
    {
      "cell_type": "code",
      "metadata": {
        "id": "XePx7aPqPKuJ",
        "colab_type": "code",
        "colab": {}
      },
      "source": [
        "import requests\n",
        "import urllib.parse\n",
        "from bs4 import BeautifulSoup"
      ],
      "execution_count": 0,
      "outputs": []
    },
    {
      "cell_type": "markdown",
      "metadata": {
        "id": "nSUY2aIcbrWE",
        "colab_type": "text"
      },
      "source": [
        "ฟังก์ชัน readHtml ทำหน้าที่สร้าง http header และส่ง request ไปยัง url ที่กำหนด\n",
        "เหตุผลที่ต้องสร้าง header คือ server บางตัวทำการตรวจสอบ abnormal access ก่อน หากพบว่าผิดปกติจะไม่ให้เข้าถึงทันที (Forbidden 403)\n",
        "\n",
        "**หากต้องการพิสูจน์เรื่อง header ให้ลบ header ในโค้ดออก และเปลี่ยน url สำหรับดึงข้อมูลเป็น url = \"https://www.freecodecamp.org/news/html-and-html5-example/\""
      ]
    },
    {
      "cell_type": "code",
      "metadata": {
        "id": "Z6zb2ijDU5fV",
        "colab_type": "code",
        "colab": {}
      },
      "source": [
        "def readHtml(url):\n",
        "  headers = {'User-Agent':'Scraping-Bot'}\n",
        "  response = requests.get(url,headers=headers)\n",
        "  response.encoding = 'utf-8'\n",
        "  return response.text"
      ],
      "execution_count": 0,
      "outputs": []
    },
    {
      "cell_type": "markdown",
      "metadata": {
        "id": "alJqidAgEgXx",
        "colab_type": "text"
      },
      "source": [
        "ในฟังก์ชัน showContents แสดงการใช้ฟังก์ชัน get_text() เพื่อเอาข้อมูลใน element มาแสดงผล\n"
      ]
    },
    {
      "cell_type": "code",
      "metadata": {
        "id": "90gpeuxW9bTc",
        "colab_type": "code",
        "colab": {}
      },
      "source": [
        "def showContents(contents):\n",
        "  for content in contents:\n",
        "    print(content.get_text())"
      ],
      "execution_count": 0,
      "outputs": []
    },
    {
      "cell_type": "markdown",
      "metadata": {
        "id": "bngiFnARES00",
        "colab_type": "text"
      },
      "source": [
        "ในฟังก์ชัน showLinks แสดงการใช้ฟังก์ชัน get พร้อมกับระบุ attribute ของสิ่งที่ต้องการ"
      ]
    },
    {
      "cell_type": "code",
      "metadata": {
        "id": "X479wVuyCQ7-",
        "colab_type": "code",
        "colab": {}
      },
      "source": [
        "def showLinks(links):\n",
        "  for link in links:\n",
        "    print(link.get_text(), end=\" \")\n",
        "    print(link.get('href'))"
      ],
      "execution_count": 0,
      "outputs": []
    },
    {
      "cell_type": "markdown",
      "metadata": {
        "id": "NulenGOvDUhI",
        "colab_type": "text"
      },
      "source": [
        "โปรแกรมเริ่มต้นการทำงานด้วยการสร้างต้นไม้ประเภทหนึ่งชื่อว่า DOM tree โดยการเรียกใช้ library BS4 ซึ่งระบุพารามิเตอร์ไว้ 2 ตัวคือ\n",
        "\n",
        "1.   สตริงที่เขียนด้วยไวยากรณ์ภาษา markup language\n",
        "2.   ชื่อ parser (ในที่นี้ใช้ html parser เนื่องจากอาร์กิวเม้นต์ในลำดับแรกมีลักษณะเป็นภาษา html)"
      ]
    },
    {
      "cell_type": "code",
      "metadata": {
        "id": "KzTXesKw6P_N",
        "colab_type": "code",
        "colab": {}
      },
      "source": [
        "url = \"https://www.york.ac.uk/teaching/cws/wws/webpage1.html\"\n",
        "data = readHtml(url).replace('\\n','')"
      ],
      "execution_count": 0,
      "outputs": []
    },
    {
      "cell_type": "code",
      "metadata": {
        "id": "hPlWLOYs9Grk",
        "colab_type": "code",
        "colab": {
          "base_uri": "https://localhost:8080/",
          "height": 54
        },
        "outputId": "0aca1316-8f54-4996-e613-76b52a6b2d6e"
      },
      "source": [
        "data"
      ],
      "execution_count": 6,
      "outputs": [
        {
          "output_type": "execute_result",
          "data": {
            "text/plain": [
              "'<HMTL><HEAD><TITLE>webpage1</TITLE></HEAD><BODY BGCOLOR=\"FFFFFf\" LINK=\"006666\" ALINK=\"8B4513\" VLINK=\"006666\"><TABLE WIDTH=\"75%\" ALIGN=\"center\"><TR><TD><DIV ALIGN=\"center\"><H1>STARTING . . . </H1></DIV><DIV ALIGN=\"justify\"><P>There are lots of ways to create web pages using already coded programmes. These lessons will teach you how to use the underlying HyperText Markup Language -  HTML. <BR><P>HTML isn\\'t computer code, but is a language that uses US English to enable texts (words, images, sounds) to be inserted and formatting such as colo(u)r and centre/ering to be written in. The process is fairly simple; the main difficulties often lie in small mistakes - if you slip up while word processing your reader may pick up your typos, but the page will still be legible. However, if your HTML is inaccurate the page may not appear - writing web pages is, at the least, very good practice for proof reading!</P><P>Learning HTML will enable you to:<UL><LI>create your own simple pages<LI>read and appreciate pages created by others<LI>develop an understanding of the creative and literary implications of web-texts<LI>have the confidence to branch out into more complex web design </UL></P><P>A HTML web page is made up of tags. Tags are placed in brackets like this <B>< tag > </B>. A tag tells the browser how to display information. Most tags need to be opened < tag > and closed < /tag >.<P> To make a simple web page you need to know only four tags:<UL><LI>< HTML > tells the browser your page is written in HTML format<LI>< HEAD > this is a kind of preface of vital information that doesn\\'t appear on the screen. <LI>< TITLE >Write the title of the web page here - this is the information that viewers see on the upper bar of their screen. (I\\'ve given this page the title \\'webpage1\\').<LI>< BODY >This is where you put the content of your page, the words and pictures that people read on the screen. </UL><P>All these tags need to be closed.<H4>EXERCISE</H4><P>Write a simple web page.</P><P> Copy out exactly the HTML below, using a WP program such as Notepad.<BR>Information in <I>italics</I> indicates where you can insert your own text, other information is HTML and needs to be exact. However, make sure there are no spaces between the tag brackets and the text inside.<BR>(Find Notepad by going to the START menu\\\\ PROGRAMS\\\\ ACCESSORIES\\\\ NOTEPAD). <P>< HTML ><BR>< HEAD ><BR>< TITLE ><I> title of page</I>< /TITLE ><BR>< /HEAD ><BR>< BODY><BR><I> write what you like here: \\'my first web page\\', or a piece about what you are reading, or a few thoughts on the course, or copy out a few words from a book or cornflake packet.  Just type in your words using no extras such as bold, or italics, as these have special HTML tags, although you may use upper and lower case letters and single spaces. </I><BR>< /BODY ><BR>< /HTML ><BR><P>Save the file as \\'first.html\\' (ie. call the file anything at all) It\\'s useful if you start a folder - just as you would for word-processing - and call it something like WEBPAGES, and put your first.html file in the folder.<P>NOW - open your browser.<BR>On Netscape the process is: <BR>  Top menu; FILE\\\\ OPEN PAGE\\\\ CHOOSE FILE<BR> Click on your WEBPAGES folder\\\\ FIRST file<BR>Click \\'open\\' and your page should appear.<P>On Internet Explorer: <BR>Top menu; FILE\\\\ OPEN\\\\ BROWSE <BR> Click on your WEBPAGES folder\\\\ FIRST file<BR>Click \\'open\\' and your page should appear.<BR><P>If the page doesn\\'t open, go back over your notepad typing and make sure that all the HTML tags are correct. Check there are no spaces between tags and internal text; check that all tags are closed; check that you haven\\'t written < HTLM > or < BDDY >.  Your page will work eventually. <P>Make another page. Call it somethingdifferent.html and place it in the same WEBPAGES folder as detailed above.<P>start formatting in <A HREF=\"webpage2.html\">lesson two</A><BR><A HREF=\"col3.html\">back to wws index</A> </P></P>   </DIV></TD></TR></TABLE></BODY></HTML>'"
            ]
          },
          "metadata": {
            "tags": []
          },
          "execution_count": 6
        }
      ]
    },
    {
      "cell_type": "code",
      "metadata": {
        "id": "tf9X7m20DXlv",
        "colab_type": "code",
        "colab": {}
      },
      "source": [
        "soup = BeautifulSoup(data,'html.parser')"
      ],
      "execution_count": 0,
      "outputs": []
    },
    {
      "cell_type": "markdown",
      "metadata": {
        "id": "1mfzDkgEGi-l",
        "colab_type": "text"
      },
      "source": [
        "เราสามารถดูต้นไม้ที่สร้างขึ้นได้ด้วยฟังก์ชัน prettify"
      ]
    },
    {
      "cell_type": "code",
      "metadata": {
        "id": "budwDtH0M6LA",
        "colab_type": "code",
        "colab": {
          "base_uri": "https://localhost:8080/",
          "height": 54
        },
        "outputId": "c808db35-60d5-4117-8504-bc7504beddbd"
      },
      "source": [
        "soup.prettify()"
      ],
      "execution_count": 8,
      "outputs": [
        {
          "output_type": "execute_result",
          "data": {
            "text/plain": [
              "'<hmtl>\\n <head>\\n  <title>\\n   webpage1\\n  </title>\\n </head>\\n <body alink=\"8B4513\" bgcolor=\"FFFFFf\" link=\"006666\" vlink=\"006666\">\\n  <table align=\"center\" width=\"75%\">\\n   <tr>\\n    <td>\\n     <div align=\"center\">\\n      <h1>\\n       STARTING . . .\\n      </h1>\\n     </div>\\n     <div align=\"justify\">\\n      <p>\\n       There are lots of ways to create web pages using already coded programmes. These lessons will teach you how to use the underlying HyperText Markup Language -  HTML.\\n       <br/>\\n       <p>\\n        HTML isn\\'t computer code, but is a language that uses US English to enable texts (words, images, sounds) to be inserted and formatting such as colo(u)r and centre/ering to be written in. The process is fairly simple; the main difficulties often lie in small mistakes - if you slip up while word processing your reader may pick up your typos, but the page will still be legible. However, if your HTML is inaccurate the page may not appear - writing web pages is, at the least, very good practice for proof reading!\\n       </p>\\n       <p>\\n        Learning HTML will enable you to:\\n        <ul>\\n         <li>\\n          create your own simple pages\\n          <li>\\n           read and appreciate pages created by others\\n           <li>\\n            develop an understanding of the creative and literary implications of web-texts\\n            <li>\\n             have the confidence to branch out into more complex web design\\n            </li>\\n           </li>\\n          </li>\\n         </li>\\n        </ul>\\n       </p>\\n       <p>\\n        A HTML web page is made up of tags. Tags are placed in brackets like this\\n        <b>\\n         &lt; tag &gt;\\n        </b>\\n        . A tag tells the browser how to display information. Most tags need to be opened &lt; tag &gt; and closed &lt; /tag &gt;.\\n        <p>\\n         To make a simple web page you need to know only four tags:\\n         <ul>\\n          <li>\\n           &lt; HTML &gt; tells the browser your page is written in HTML format\\n           <li>\\n            &lt; HEAD &gt; this is a kind of preface of vital information that doesn\\'t appear on the screen.\\n            <li>\\n             &lt; TITLE &gt;Write the title of the web page here - this is the information that viewers see on the upper bar of their screen. (I\\'ve given this page the title \\'webpage1\\').\\n             <li>\\n              &lt; BODY &gt;This is where you put the content of your page, the words and pictures that people read on the screen.\\n             </li>\\n            </li>\\n           </li>\\n          </li>\\n         </ul>\\n         <p>\\n          All these tags need to be closed.\\n          <h4>\\n           EXERCISE\\n          </h4>\\n          <p>\\n           Write a simple web page.\\n          </p>\\n          <p>\\n           Copy out exactly the HTML below, using a WP program such as Notepad.\\n           <br/>\\n           Information in\\n           <i>\\n            italics\\n           </i>\\n           indicates where you can insert your own text, other information is HTML and needs to be exact. However, make sure there are no spaces between the tag brackets and the text inside.\\n           <br/>\\n           (Find Notepad by going to the START menu\\\\ PROGRAMS\\\\ ACCESSORIES\\\\ NOTEPAD).\\n           <p>\\n            &lt; HTML &gt;\\n            <br/>\\n            &lt; HEAD &gt;\\n            <br/>\\n            &lt; TITLE &gt;\\n            <i>\\n             title of page\\n            </i>\\n            &lt; /TITLE &gt;\\n            <br/>\\n            &lt; /HEAD &gt;\\n            <br/>\\n            &lt; BODY&gt;\\n            <br/>\\n            <i>\\n             write what you like here: \\'my first web page\\', or a piece about what you are reading, or a few thoughts on the course, or copy out a few words from a book or cornflake packet.  Just type in your words using no extras such as bold, or italics, as these have special HTML tags, although you may use upper and lower case letters and single spaces.\\n            </i>\\n            <br/>\\n            &lt; /BODY &gt;\\n            <br/>\\n            &lt; /HTML &gt;\\n            <br/>\\n            <p>\\n             Save the file as \\'first.html\\' (ie. call the file anything at all) It\\'s useful if you start a folder - just as you would for word-processing - and call it something like WEBPAGES, and put your first.html file in the folder.\\n             <p>\\n              NOW - open your browser.\\n              <br/>\\n              On Netscape the process is:\\n              <br/>\\n              Top menu; FILE\\\\ OPEN PAGE\\\\ CHOOSE FILE\\n              <br/>\\n              Click on your WEBPAGES folder\\\\ FIRST file\\n              <br/>\\n              Click \\'open\\' and your page should appear.\\n              <p>\\n               On Internet Explorer:\\n               <br/>\\n               Top menu; FILE\\\\ OPEN\\\\ BROWSE\\n               <br/>\\n               Click on your WEBPAGES folder\\\\ FIRST file\\n               <br/>\\n               Click \\'open\\' and your page should appear.\\n               <br/>\\n               <p>\\n                If the page doesn\\'t open, go back over your notepad typing and make sure that all the HTML tags are correct. Check there are no spaces between tags and internal text; check that all tags are closed; check that you haven\\'t written &lt; HTLM &gt; or &lt; BDDY &gt;.  Your page will work eventually.\\n                <p>\\n                 Make another page. Call it somethingdifferent.html and place it in the same WEBPAGES folder as detailed above.\\n                 <p>\\n                  start formatting in\\n                  <a href=\"webpage2.html\">\\n                   lesson two\\n                  </a>\\n                  <br/>\\n                  <a href=\"col3.html\">\\n                   back to wws index\\n                  </a>\\n                 </p>\\n                </p>\\n               </p>\\n              </p>\\n             </p>\\n            </p>\\n           </p>\\n          </p>\\n         </p>\\n        </p>\\n       </p>\\n      </p>\\n     </div>\\n    </td>\\n   </tr>\\n  </table>\\n </body>\\n</hmtl>'"
            ]
          },
          "metadata": {
            "tags": []
          },
          "execution_count": 8
        }
      ]
    },
    {
      "cell_type": "markdown",
      "metadata": {
        "id": "pOS3kRLAXbPX",
        "colab_type": "text"
      },
      "source": [
        "# การค้นหาข้อมูลใน DOM Tree"
      ]
    },
    {
      "cell_type": "markdown",
      "metadata": {
        "id": "sx1GWj0bD5_o",
        "colab_type": "text"
      },
      "source": [
        "ทดลองค้นหาข้อมูลภายใน element ต่าง ๆ ผ่านฟังก์ชัน \n",
        "\n",
        "\n",
        "1. find.TAGNAME.contents\n",
        "2. find.TAGNAME.children\n",
        "3. find('TAGNAME')\n",
        "4. find+attrs (แบบระบุ attributes)\n",
        "5. find+string\n",
        "\n",
        "การใช้ฟังก์ชันเหล่านี้จะได้ผลลัพธ์ออกมาเพียง element เดียว ซึ่งเป็น element อันดับแรกนับจากรากของต้นไม้ DOM"
      ]
    },
    {
      "cell_type": "code",
      "metadata": {
        "id": "6ADU-UoJPOfM",
        "colab_type": "code",
        "colab": {}
      },
      "source": [
        "body = soup.body.contents\n",
        "ex = soup.find('h4')\n",
        "value = soup.find(string='INSERTING IMAGES')\n",
        "table = soup.find(attrs={\n",
        "    'align':'left'\n",
        "})\n",
        "data = soup.find('div',attrs={\n",
        "    'align':'center'\n",
        "})"
      ],
      "execution_count": 0,
      "outputs": []
    },
    {
      "cell_type": "code",
      "metadata": {
        "id": "r9mk1WuuVzOu",
        "colab_type": "code",
        "colab": {
          "base_uri": "https://localhost:8080/",
          "height": 122
        },
        "outputId": "bdec2b01-8d66-4ccc-ccd3-202f7a3d0045"
      },
      "source": [
        "print('---Result of body---',body)\n",
        "print('Result of ex',ex.get_text())\n",
        "print('Result of value',value)\n",
        "print('Result of table',table)\n",
        "print('Result of data',data)"
      ],
      "execution_count": 10,
      "outputs": [
        {
          "output_type": "stream",
          "text": [
            "---Result of body--- [<table align=\"center\" width=\"75%\"><tr><td><div align=\"center\"><h1>STARTING . . . </h1></div><div align=\"justify\"><p>There are lots of ways to create web pages using already coded programmes. These lessons will teach you how to use the underlying HyperText Markup Language -  HTML. <br/><p>HTML isn't computer code, but is a language that uses US English to enable texts (words, images, sounds) to be inserted and formatting such as colo(u)r and centre/ering to be written in. The process is fairly simple; the main difficulties often lie in small mistakes - if you slip up while word processing your reader may pick up your typos, but the page will still be legible. However, if your HTML is inaccurate the page may not appear - writing web pages is, at the least, very good practice for proof reading!</p><p>Learning HTML will enable you to:<ul><li>create your own simple pages<li>read and appreciate pages created by others<li>develop an understanding of the creative and literary implications of web-texts<li>have the confidence to branch out into more complex web design </li></li></li></li></ul></p><p>A HTML web page is made up of tags. Tags are placed in brackets like this <b>&lt; tag &gt; </b>. A tag tells the browser how to display information. Most tags need to be opened &lt; tag &gt; and closed &lt; /tag &gt;.<p> To make a simple web page you need to know only four tags:<ul><li>&lt; HTML &gt; tells the browser your page is written in HTML format<li>&lt; HEAD &gt; this is a kind of preface of vital information that doesn't appear on the screen. <li>&lt; TITLE &gt;Write the title of the web page here - this is the information that viewers see on the upper bar of their screen. (I've given this page the title 'webpage1').<li>&lt; BODY &gt;This is where you put the content of your page, the words and pictures that people read on the screen. </li></li></li></li></ul><p>All these tags need to be closed.<h4>EXERCISE</h4><p>Write a simple web page.</p><p> Copy out exactly the HTML below, using a WP program such as Notepad.<br/>Information in <i>italics</i> indicates where you can insert your own text, other information is HTML and needs to be exact. However, make sure there are no spaces between the tag brackets and the text inside.<br/>(Find Notepad by going to the START menu\\ PROGRAMS\\ ACCESSORIES\\ NOTEPAD). <p>&lt; HTML &gt;<br/>&lt; HEAD &gt;<br/>&lt; TITLE &gt;<i> title of page</i>&lt; /TITLE &gt;<br/>&lt; /HEAD &gt;<br/>&lt; BODY&gt;<br/><i> write what you like here: 'my first web page', or a piece about what you are reading, or a few thoughts on the course, or copy out a few words from a book or cornflake packet.  Just type in your words using no extras such as bold, or italics, as these have special HTML tags, although you may use upper and lower case letters and single spaces. </i><br/>&lt; /BODY &gt;<br/>&lt; /HTML &gt;<br/><p>Save the file as 'first.html' (ie. call the file anything at all) It's useful if you start a folder - just as you would for word-processing - and call it something like WEBPAGES, and put your first.html file in the folder.<p>NOW - open your browser.<br/>On Netscape the process is: <br/>  Top menu; FILE\\ OPEN PAGE\\ CHOOSE FILE<br/> Click on your WEBPAGES folder\\ FIRST file<br/>Click 'open' and your page should appear.<p>On Internet Explorer: <br/>Top menu; FILE\\ OPEN\\ BROWSE <br/> Click on your WEBPAGES folder\\ FIRST file<br/>Click 'open' and your page should appear.<br/><p>If the page doesn't open, go back over your notepad typing and make sure that all the HTML tags are correct. Check there are no spaces between tags and internal text; check that all tags are closed; check that you haven't written &lt; HTLM &gt; or &lt; BDDY &gt;.  Your page will work eventually. <p>Make another page. Call it somethingdifferent.html and place it in the same WEBPAGES folder as detailed above.<p>start formatting in <a href=\"webpage2.html\">lesson two</a><br/><a href=\"col3.html\">back to wws index</a> </p></p> </p></p></p></p></p></p></p></p></p></p></div></td></tr></table>]\n",
            "Result of ex EXERCISE\n",
            "Result of value None\n",
            "Result of table None\n",
            "Result of data <div align=\"center\"><h1>STARTING . . . </h1></div>\n"
          ],
          "name": "stdout"
        }
      ]
    },
    {
      "cell_type": "markdown",
      "metadata": {
        "id": "QvU0rMBVQide",
        "colab_type": "text"
      },
      "source": [
        "หากไม่ต้องการให้ผลลัพธ์เก็บอยู่ในตัวแปร list แล้ว เราสามารถเรียกใช้ generator ที่ชื่อว่า children เพื่อวนรอบทำงานได้เลย\n",
        "**ถึงแม้การใช้ find กับ children จะได้ผลลัพธ์เหมือนกัน แต่ optimization ต่างกัน"
      ]
    },
    {
      "cell_type": "code",
      "metadata": {
        "id": "KfWdOZDlQT14",
        "colab_type": "code",
        "colab": {
          "base_uri": "https://localhost:8080/",
          "height": 51
        },
        "outputId": "d404f370-f0fe-4a26-a685-c87d32dbbe4b"
      },
      "source": [
        "for child in soup.table.tr.td.children:\n",
        "  if(child.name != None):\n",
        "    print(child.name)"
      ],
      "execution_count": 11,
      "outputs": [
        {
          "output_type": "stream",
          "text": [
            "div\n",
            "div\n"
          ],
          "name": "stdout"
        }
      ]
    },
    {
      "cell_type": "markdown",
      "metadata": {
        "id": "Fy174jqoN96i",
        "colab_type": "text"
      },
      "source": [
        "การค้นหาข้อมูลในต้นไม้ DOM อีกวิธีหนึ่งคือ find_all ซึ่งจะได้ผลลัพธ์ออกมามากกว่า 1 element และข้อมูลเก็บอยู่ในรูปของ list"
      ]
    },
    {
      "cell_type": "code",
      "metadata": {
        "id": "kLgDLA89OpJs",
        "colab_type": "code",
        "colab": {
          "base_uri": "https://localhost:8080/",
          "height": 102
        },
        "outputId": "4c8d1505-04eb-4500-f1da-f3c416533cac"
      },
      "source": [
        "heads = soup.find_all('h4')\n",
        "links = soup.find_all('a')\n",
        "print('----Result of heads----')\n",
        "showContents(heads)\n",
        "print('----Result of links----')\n",
        "showLinks(links)"
      ],
      "execution_count": 12,
      "outputs": [
        {
          "output_type": "stream",
          "text": [
            "----Result of heads----\n",
            "EXERCISE\n",
            "----Result of links----\n",
            "lesson two webpage2.html\n",
            "back to wws index col3.html\n"
          ],
          "name": "stdout"
        }
      ]
    },
    {
      "cell_type": "markdown",
      "metadata": {
        "id": "hjsiWK6cf8Gn",
        "colab_type": "text"
      },
      "source": [
        "ตัวอย่าง find_all ด้านล่างนี้เป็นการผสม regx เพื่อค้นหา attribute \"href\" ที่มีค่าสตริง .html ประกอบอยู่เท่านั้น ดังจะเห็นได้ว่า สตริง /inst/cws ไม่แสดงออกมาเหมือนตัวอย่างก่อนหน้า"
      ]
    },
    {
      "cell_type": "code",
      "metadata": {
        "id": "dg6suZjvfCwi",
        "colab_type": "code",
        "colab": {}
      },
      "source": [
        "import re\n",
        "#href = soup.find_all(href=re.compile(\".html\"))\n",
        "href = soup.find_all(attrs={\n",
        "    'href':re.compile(\".html\")\n",
        "})"
      ],
      "execution_count": 0,
      "outputs": []
    },
    {
      "cell_type": "code",
      "metadata": {
        "id": "Tj533hiCI9yq",
        "colab_type": "code",
        "colab": {
          "base_uri": "https://localhost:8080/",
          "height": 51
        },
        "outputId": "472d21a2-2a67-4caf-c114-13da5ca6be02"
      },
      "source": [
        "href"
      ],
      "execution_count": 14,
      "outputs": [
        {
          "output_type": "execute_result",
          "data": {
            "text/plain": [
              "[<a href=\"webpage2.html\">lesson two</a>,\n",
              " <a href=\"col3.html\">back to wws index</a>]"
            ]
          },
          "metadata": {
            "tags": []
          },
          "execution_count": 14
        }
      ]
    },
    {
      "cell_type": "markdown",
      "metadata": {
        "id": "RcLCuDBmXw4z",
        "colab_type": "text"
      },
      "source": [
        "# การเดินทางใน DOM Tree (Traverse the DOM Tree)"
      ]
    },
    {
      "cell_type": "markdown",
      "metadata": {
        "id": "i1Tbpr7qYHrO",
        "colab_type": "text"
      },
      "source": [
        "\n",
        "\n",
        "> ให้เราจินตนาการว่าเราเดินทางไปในแต่ละกิ่งก้านของต้นไม้ สิ่งที่ต้องรู้จักคือ node ปัจจุบัน, node พ่อแม่, node น้อง (โหนดทางขวามือ), node พี่ (โหนดทางซ้ายมือ) และ node ลูก (เรื่องเดียวกับที่เรียนในวิชา Data Structures)\n",
        "> สำหรับไลบรารี BS4 มีเครื่องมือให้เราเดินทางในต้นไม้ไว้เรียบร้อยแล้ว แบ่งประเภทการเดินทางออกเป็น 3 แบบคือ\n",
        "\n",
        "\n",
        "1. เดินขึ้น ใช้ฟังก์ชัน\n",
        "2. เดินลง\n",
        "3. เดินในระดับเดียวกัน\n",
        "\n",
        "โค้ดต่อไปนี้จะเริ่มเดินทางจาก body ของเพจ\n",
        "\n",
        "\n",
        "\n",
        "\n",
        "\n",
        "\n"
      ]
    },
    {
      "cell_type": "code",
      "metadata": {
        "id": "irsC0ybEYFrg",
        "colab_type": "code",
        "colab": {}
      },
      "source": [
        "body = soup.body"
      ],
      "execution_count": 0,
      "outputs": []
    },
    {
      "cell_type": "markdown",
      "metadata": {
        "id": "yVR9kKF2_wTP",
        "colab_type": "text"
      },
      "source": [
        "ทำการเดินขึ้นไปยังโหนดพ่อแม่ของ body ซึ่งก็คือ element ของ html ทั้งหมด"
      ]
    },
    {
      "cell_type": "code",
      "metadata": {
        "id": "xV_Fb63dyG1c",
        "colab_type": "code",
        "colab": {
          "base_uri": "https://localhost:8080/",
          "height": 54
        },
        "outputId": "9c1f2078-e59c-4a94-f1c2-66578706ce76"
      },
      "source": [
        "body.parent"
      ],
      "execution_count": 16,
      "outputs": [
        {
          "output_type": "execute_result",
          "data": {
            "text/plain": [
              "<hmtl><head><title>webpage1</title></head><body alink=\"8B4513\" bgcolor=\"FFFFFf\" link=\"006666\" vlink=\"006666\"><table align=\"center\" width=\"75%\"><tr><td><div align=\"center\"><h1>STARTING . . . </h1></div><div align=\"justify\"><p>There are lots of ways to create web pages using already coded programmes. These lessons will teach you how to use the underlying HyperText Markup Language -  HTML. <br/><p>HTML isn't computer code, but is a language that uses US English to enable texts (words, images, sounds) to be inserted and formatting such as colo(u)r and centre/ering to be written in. The process is fairly simple; the main difficulties often lie in small mistakes - if you slip up while word processing your reader may pick up your typos, but the page will still be legible. However, if your HTML is inaccurate the page may not appear - writing web pages is, at the least, very good practice for proof reading!</p><p>Learning HTML will enable you to:<ul><li>create your own simple pages<li>read and appreciate pages created by others<li>develop an understanding of the creative and literary implications of web-texts<li>have the confidence to branch out into more complex web design </li></li></li></li></ul></p><p>A HTML web page is made up of tags. Tags are placed in brackets like this <b>&lt; tag &gt; </b>. A tag tells the browser how to display information. Most tags need to be opened &lt; tag &gt; and closed &lt; /tag &gt;.<p> To make a simple web page you need to know only four tags:<ul><li>&lt; HTML &gt; tells the browser your page is written in HTML format<li>&lt; HEAD &gt; this is a kind of preface of vital information that doesn't appear on the screen. <li>&lt; TITLE &gt;Write the title of the web page here - this is the information that viewers see on the upper bar of their screen. (I've given this page the title 'webpage1').<li>&lt; BODY &gt;This is where you put the content of your page, the words and pictures that people read on the screen. </li></li></li></li></ul><p>All these tags need to be closed.<h4>EXERCISE</h4><p>Write a simple web page.</p><p> Copy out exactly the HTML below, using a WP program such as Notepad.<br/>Information in <i>italics</i> indicates where you can insert your own text, other information is HTML and needs to be exact. However, make sure there are no spaces between the tag brackets and the text inside.<br/>(Find Notepad by going to the START menu\\ PROGRAMS\\ ACCESSORIES\\ NOTEPAD). <p>&lt; HTML &gt;<br/>&lt; HEAD &gt;<br/>&lt; TITLE &gt;<i> title of page</i>&lt; /TITLE &gt;<br/>&lt; /HEAD &gt;<br/>&lt; BODY&gt;<br/><i> write what you like here: 'my first web page', or a piece about what you are reading, or a few thoughts on the course, or copy out a few words from a book or cornflake packet.  Just type in your words using no extras such as bold, or italics, as these have special HTML tags, although you may use upper and lower case letters and single spaces. </i><br/>&lt; /BODY &gt;<br/>&lt; /HTML &gt;<br/><p>Save the file as 'first.html' (ie. call the file anything at all) It's useful if you start a folder - just as you would for word-processing - and call it something like WEBPAGES, and put your first.html file in the folder.<p>NOW - open your browser.<br/>On Netscape the process is: <br/>  Top menu; FILE\\ OPEN PAGE\\ CHOOSE FILE<br/> Click on your WEBPAGES folder\\ FIRST file<br/>Click 'open' and your page should appear.<p>On Internet Explorer: <br/>Top menu; FILE\\ OPEN\\ BROWSE <br/> Click on your WEBPAGES folder\\ FIRST file<br/>Click 'open' and your page should appear.<br/><p>If the page doesn't open, go back over your notepad typing and make sure that all the HTML tags are correct. Check there are no spaces between tags and internal text; check that all tags are closed; check that you haven't written &lt; HTLM &gt; or &lt; BDDY &gt;.  Your page will work eventually. <p>Make another page. Call it somethingdifferent.html and place it in the same WEBPAGES folder as detailed above.<p>start formatting in <a href=\"webpage2.html\">lesson two</a><br/><a href=\"col3.html\">back to wws index</a> </p></p> </p></p></p></p></p></p></p></p></p></p></div></td></tr></table></body></hmtl>"
            ]
          },
          "metadata": {
            "tags": []
          },
          "execution_count": 16
        }
      ]
    },
    {
      "cell_type": "markdown",
      "metadata": {
        "id": "YmqkOut6AAwe",
        "colab_type": "text"
      },
      "source": [
        "เดินดูลูกทุกคนของ body ว่ามีใครบ้าง (เอาเฉพาะชื่อ tag มาเท่านั้น)\n",
        "จะพบว่ามีโหนดลูกเพียงโหนดเดียวคือ table"
      ]
    },
    {
      "cell_type": "code",
      "metadata": {
        "id": "T7O9LJeHzlNO",
        "colab_type": "code",
        "colab": {
          "base_uri": "https://localhost:8080/",
          "height": 34
        },
        "outputId": "6e7656c4-8a0f-4f7f-c0cc-aaf169ce4239"
      },
      "source": [
        "for child in body.children:\n",
        "  print(child.name)"
      ],
      "execution_count": 17,
      "outputs": [
        {
          "output_type": "stream",
          "text": [
            "table\n"
          ],
          "name": "stdout"
        }
      ]
    },
    {
      "cell_type": "markdown",
      "metadata": {
        "id": "AuxiUqBoAzGW",
        "colab_type": "text"
      },
      "source": [
        "จาก html code ที่นำมาใช้ พบว่าข้อมูลที่ปรากฎบนเว็บอยู่ใน element ของ td แรกของ table\n",
        "และเพื่อให้เห็นภาพชัดเจนขึ้น จึงแสดงโหนดลูกของ td พร้อมกับ attribute ของ tag แต่ละอันดังนี้"
      ]
    },
    {
      "cell_type": "code",
      "metadata": {
        "id": "KYIb7OdX1VSP",
        "colab_type": "code",
        "colab": {
          "base_uri": "https://localhost:8080/",
          "height": 51
        },
        "outputId": "dcc77e6b-042c-4046-fb44-1c78073a26ed"
      },
      "source": [
        "for tdchild in body.table.tr.td.children:\n",
        "  print(tdchild.name,'with ',tdchild.attrs)"
      ],
      "execution_count": 18,
      "outputs": [
        {
          "output_type": "stream",
          "text": [
            "div with  {'align': 'center'}\n",
            "div with  {'align': 'justify'}\n"
          ],
          "name": "stdout"
        }
      ]
    },
    {
      "cell_type": "markdown",
      "metadata": {
        "id": "evSeCL6bS2dv",
        "colab_type": "text"
      },
      "source": [
        "อยากไปหาน้องของพี่คนโต (div align center) ใช้ฟังก์ชัน next_sibling "
      ]
    },
    {
      "cell_type": "code",
      "metadata": {
        "id": "pToluXN1LcZL",
        "colab_type": "code",
        "colab": {
          "base_uri": "https://localhost:8080/",
          "height": 54
        },
        "outputId": "7842b602-f886-4db5-c684-60f15a5e4353"
      },
      "source": [
        "body.table.tr.td.div.next_sibling"
      ],
      "execution_count": 19,
      "outputs": [
        {
          "output_type": "execute_result",
          "data": {
            "text/plain": [
              "<div align=\"justify\"><p>There are lots of ways to create web pages using already coded programmes. These lessons will teach you how to use the underlying HyperText Markup Language -  HTML. <br/><p>HTML isn't computer code, but is a language that uses US English to enable texts (words, images, sounds) to be inserted and formatting such as colo(u)r and centre/ering to be written in. The process is fairly simple; the main difficulties often lie in small mistakes - if you slip up while word processing your reader may pick up your typos, but the page will still be legible. However, if your HTML is inaccurate the page may not appear - writing web pages is, at the least, very good practice for proof reading!</p><p>Learning HTML will enable you to:<ul><li>create your own simple pages<li>read and appreciate pages created by others<li>develop an understanding of the creative and literary implications of web-texts<li>have the confidence to branch out into more complex web design </li></li></li></li></ul></p><p>A HTML web page is made up of tags. Tags are placed in brackets like this <b>&lt; tag &gt; </b>. A tag tells the browser how to display information. Most tags need to be opened &lt; tag &gt; and closed &lt; /tag &gt;.<p> To make a simple web page you need to know only four tags:<ul><li>&lt; HTML &gt; tells the browser your page is written in HTML format<li>&lt; HEAD &gt; this is a kind of preface of vital information that doesn't appear on the screen. <li>&lt; TITLE &gt;Write the title of the web page here - this is the information that viewers see on the upper bar of their screen. (I've given this page the title 'webpage1').<li>&lt; BODY &gt;This is where you put the content of your page, the words and pictures that people read on the screen. </li></li></li></li></ul><p>All these tags need to be closed.<h4>EXERCISE</h4><p>Write a simple web page.</p><p> Copy out exactly the HTML below, using a WP program such as Notepad.<br/>Information in <i>italics</i> indicates where you can insert your own text, other information is HTML and needs to be exact. However, make sure there are no spaces between the tag brackets and the text inside.<br/>(Find Notepad by going to the START menu\\ PROGRAMS\\ ACCESSORIES\\ NOTEPAD). <p>&lt; HTML &gt;<br/>&lt; HEAD &gt;<br/>&lt; TITLE &gt;<i> title of page</i>&lt; /TITLE &gt;<br/>&lt; /HEAD &gt;<br/>&lt; BODY&gt;<br/><i> write what you like here: 'my first web page', or a piece about what you are reading, or a few thoughts on the course, or copy out a few words from a book or cornflake packet.  Just type in your words using no extras such as bold, or italics, as these have special HTML tags, although you may use upper and lower case letters and single spaces. </i><br/>&lt; /BODY &gt;<br/>&lt; /HTML &gt;<br/><p>Save the file as 'first.html' (ie. call the file anything at all) It's useful if you start a folder - just as you would for word-processing - and call it something like WEBPAGES, and put your first.html file in the folder.<p>NOW - open your browser.<br/>On Netscape the process is: <br/>  Top menu; FILE\\ OPEN PAGE\\ CHOOSE FILE<br/> Click on your WEBPAGES folder\\ FIRST file<br/>Click 'open' and your page should appear.<p>On Internet Explorer: <br/>Top menu; FILE\\ OPEN\\ BROWSE <br/> Click on your WEBPAGES folder\\ FIRST file<br/>Click 'open' and your page should appear.<br/><p>If the page doesn't open, go back over your notepad typing and make sure that all the HTML tags are correct. Check there are no spaces between tags and internal text; check that all tags are closed; check that you haven't written &lt; HTLM &gt; or &lt; BDDY &gt;.  Your page will work eventually. <p>Make another page. Call it somethingdifferent.html and place it in the same WEBPAGES folder as detailed above.<p>start formatting in <a href=\"webpage2.html\">lesson two</a><br/><a href=\"col3.html\">back to wws index</a> </p></p> </p></p></p></p></p></p></p></p></p></p></div>"
            ]
          },
          "metadata": {
            "tags": []
          },
          "execution_count": 19
        }
      ]
    },
    {
      "cell_type": "markdown",
      "metadata": {
        "id": "UGwooEjvTHs4",
        "colab_type": "text"
      },
      "source": [
        "อยากไปหาลูกคนแรกของน้อง"
      ]
    },
    {
      "cell_type": "code",
      "metadata": {
        "id": "r0_jfA9zJVpV",
        "colab_type": "code",
        "colab": {
          "base_uri": "https://localhost:8080/",
          "height": 54
        },
        "outputId": "7b904e0e-11ae-4a58-d4c4-eb26358ee3e6"
      },
      "source": [
        "body.table.tr.td.div.next_sibling.next_element"
      ],
      "execution_count": 20,
      "outputs": [
        {
          "output_type": "execute_result",
          "data": {
            "text/plain": [
              "<p>There are lots of ways to create web pages using already coded programmes. These lessons will teach you how to use the underlying HyperText Markup Language -  HTML. <br/><p>HTML isn't computer code, but is a language that uses US English to enable texts (words, images, sounds) to be inserted and formatting such as colo(u)r and centre/ering to be written in. The process is fairly simple; the main difficulties often lie in small mistakes - if you slip up while word processing your reader may pick up your typos, but the page will still be legible. However, if your HTML is inaccurate the page may not appear - writing web pages is, at the least, very good practice for proof reading!</p><p>Learning HTML will enable you to:<ul><li>create your own simple pages<li>read and appreciate pages created by others<li>develop an understanding of the creative and literary implications of web-texts<li>have the confidence to branch out into more complex web design </li></li></li></li></ul></p><p>A HTML web page is made up of tags. Tags are placed in brackets like this <b>&lt; tag &gt; </b>. A tag tells the browser how to display information. Most tags need to be opened &lt; tag &gt; and closed &lt; /tag &gt;.<p> To make a simple web page you need to know only four tags:<ul><li>&lt; HTML &gt; tells the browser your page is written in HTML format<li>&lt; HEAD &gt; this is a kind of preface of vital information that doesn't appear on the screen. <li>&lt; TITLE &gt;Write the title of the web page here - this is the information that viewers see on the upper bar of their screen. (I've given this page the title 'webpage1').<li>&lt; BODY &gt;This is where you put the content of your page, the words and pictures that people read on the screen. </li></li></li></li></ul><p>All these tags need to be closed.<h4>EXERCISE</h4><p>Write a simple web page.</p><p> Copy out exactly the HTML below, using a WP program such as Notepad.<br/>Information in <i>italics</i> indicates where you can insert your own text, other information is HTML and needs to be exact. However, make sure there are no spaces between the tag brackets and the text inside.<br/>(Find Notepad by going to the START menu\\ PROGRAMS\\ ACCESSORIES\\ NOTEPAD). <p>&lt; HTML &gt;<br/>&lt; HEAD &gt;<br/>&lt; TITLE &gt;<i> title of page</i>&lt; /TITLE &gt;<br/>&lt; /HEAD &gt;<br/>&lt; BODY&gt;<br/><i> write what you like here: 'my first web page', or a piece about what you are reading, or a few thoughts on the course, or copy out a few words from a book or cornflake packet.  Just type in your words using no extras such as bold, or italics, as these have special HTML tags, although you may use upper and lower case letters and single spaces. </i><br/>&lt; /BODY &gt;<br/>&lt; /HTML &gt;<br/><p>Save the file as 'first.html' (ie. call the file anything at all) It's useful if you start a folder - just as you would for word-processing - and call it something like WEBPAGES, and put your first.html file in the folder.<p>NOW - open your browser.<br/>On Netscape the process is: <br/>  Top menu; FILE\\ OPEN PAGE\\ CHOOSE FILE<br/> Click on your WEBPAGES folder\\ FIRST file<br/>Click 'open' and your page should appear.<p>On Internet Explorer: <br/>Top menu; FILE\\ OPEN\\ BROWSE <br/> Click on your WEBPAGES folder\\ FIRST file<br/>Click 'open' and your page should appear.<br/><p>If the page doesn't open, go back over your notepad typing and make sure that all the HTML tags are correct. Check there are no spaces between tags and internal text; check that all tags are closed; check that you haven't written &lt; HTLM &gt; or &lt; BDDY &gt;.  Your page will work eventually. <p>Make another page. Call it somethingdifferent.html and place it in the same WEBPAGES folder as detailed above.<p>start formatting in <a href=\"webpage2.html\">lesson two</a><br/><a href=\"col3.html\">back to wws index</a> </p></p> </p></p></p></p></p></p></p></p></p></p>"
            ]
          },
          "metadata": {
            "tags": []
          },
          "execution_count": 20
        }
      ]
    },
    {
      "cell_type": "markdown",
      "metadata": {
        "id": "Y00ACkNkbZrb",
        "colab_type": "text"
      },
      "source": [
        "เปรียบเทียบว่าโค้ดก่อนหน้าแสดงลูกคนแรกของ div ตัวที่สองจริงหรือไม่"
      ]
    },
    {
      "cell_type": "code",
      "metadata": {
        "id": "-FTw7lPXbiw5",
        "colab_type": "code",
        "colab": {
          "base_uri": "https://localhost:8080/",
          "height": 71
        },
        "outputId": "da916475-8873-4673-a101-9b1d88669059"
      },
      "source": [
        "for info in body.find('div',attrs={'align': 'justify'}).children:\n",
        "  print('------')\n",
        "  print(info)"
      ],
      "execution_count": 21,
      "outputs": [
        {
          "output_type": "stream",
          "text": [
            "------\n",
            "<p>There are lots of ways to create web pages using already coded programmes. These lessons will teach you how to use the underlying HyperText Markup Language -  HTML. <br/><p>HTML isn't computer code, but is a language that uses US English to enable texts (words, images, sounds) to be inserted and formatting such as colo(u)r and centre/ering to be written in. The process is fairly simple; the main difficulties often lie in small mistakes - if you slip up while word processing your reader may pick up your typos, but the page will still be legible. However, if your HTML is inaccurate the page may not appear - writing web pages is, at the least, very good practice for proof reading!</p><p>Learning HTML will enable you to:<ul><li>create your own simple pages<li>read and appreciate pages created by others<li>develop an understanding of the creative and literary implications of web-texts<li>have the confidence to branch out into more complex web design </li></li></li></li></ul></p><p>A HTML web page is made up of tags. Tags are placed in brackets like this <b>&lt; tag &gt; </b>. A tag tells the browser how to display information. Most tags need to be opened &lt; tag &gt; and closed &lt; /tag &gt;.<p> To make a simple web page you need to know only four tags:<ul><li>&lt; HTML &gt; tells the browser your page is written in HTML format<li>&lt; HEAD &gt; this is a kind of preface of vital information that doesn't appear on the screen. <li>&lt; TITLE &gt;Write the title of the web page here - this is the information that viewers see on the upper bar of their screen. (I've given this page the title 'webpage1').<li>&lt; BODY &gt;This is where you put the content of your page, the words and pictures that people read on the screen. </li></li></li></li></ul><p>All these tags need to be closed.<h4>EXERCISE</h4><p>Write a simple web page.</p><p> Copy out exactly the HTML below, using a WP program such as Notepad.<br/>Information in <i>italics</i> indicates where you can insert your own text, other information is HTML and needs to be exact. However, make sure there are no spaces between the tag brackets and the text inside.<br/>(Find Notepad by going to the START menu\\ PROGRAMS\\ ACCESSORIES\\ NOTEPAD). <p>&lt; HTML &gt;<br/>&lt; HEAD &gt;<br/>&lt; TITLE &gt;<i> title of page</i>&lt; /TITLE &gt;<br/>&lt; /HEAD &gt;<br/>&lt; BODY&gt;<br/><i> write what you like here: 'my first web page', or a piece about what you are reading, or a few thoughts on the course, or copy out a few words from a book or cornflake packet.  Just type in your words using no extras such as bold, or italics, as these have special HTML tags, although you may use upper and lower case letters and single spaces. </i><br/>&lt; /BODY &gt;<br/>&lt; /HTML &gt;<br/><p>Save the file as 'first.html' (ie. call the file anything at all) It's useful if you start a folder - just as you would for word-processing - and call it something like WEBPAGES, and put your first.html file in the folder.<p>NOW - open your browser.<br/>On Netscape the process is: <br/>  Top menu; FILE\\ OPEN PAGE\\ CHOOSE FILE<br/> Click on your WEBPAGES folder\\ FIRST file<br/>Click 'open' and your page should appear.<p>On Internet Explorer: <br/>Top menu; FILE\\ OPEN\\ BROWSE <br/> Click on your WEBPAGES folder\\ FIRST file<br/>Click 'open' and your page should appear.<br/><p>If the page doesn't open, go back over your notepad typing and make sure that all the HTML tags are correct. Check there are no spaces between tags and internal text; check that all tags are closed; check that you haven't written &lt; HTLM &gt; or &lt; BDDY &gt;.  Your page will work eventually. <p>Make another page. Call it somethingdifferent.html and place it in the same WEBPAGES folder as detailed above.<p>start formatting in <a href=\"webpage2.html\">lesson two</a><br/><a href=\"col3.html\">back to wws index</a> </p></p> </p></p></p></p></p></p></p></p></p></p>\n"
          ],
          "name": "stdout"
        }
      ]
    },
    {
      "cell_type": "markdown",
      "metadata": {
        "id": "JZ1ieJXHmk_J",
        "colab_type": "text"
      },
      "source": [
        "ทดลองท่องไปใน element ต่าง ๆ ด้วย next_element และ next ซึ่งได้ผลลัพธ์เหมือนกัน"
      ]
    },
    {
      "cell_type": "code",
      "metadata": {
        "id": "K3t1HrpmeGsl",
        "colab_type": "code",
        "colab": {
          "base_uri": "https://localhost:8080/",
          "height": 54
        },
        "outputId": "a9c8f044-7cd4-4419-9840-0c247119f1e0"
      },
      "source": [
        "info.prettify()"
      ],
      "execution_count": 22,
      "outputs": [
        {
          "output_type": "execute_result",
          "data": {
            "text/plain": [
              "'<p>\\n There are lots of ways to create web pages using already coded programmes. These lessons will teach you how to use the underlying HyperText Markup Language -  HTML.\\n <br/>\\n <p>\\n  HTML isn\\'t computer code, but is a language that uses US English to enable texts (words, images, sounds) to be inserted and formatting such as colo(u)r and centre/ering to be written in. The process is fairly simple; the main difficulties often lie in small mistakes - if you slip up while word processing your reader may pick up your typos, but the page will still be legible. However, if your HTML is inaccurate the page may not appear - writing web pages is, at the least, very good practice for proof reading!\\n </p>\\n <p>\\n  Learning HTML will enable you to:\\n  <ul>\\n   <li>\\n    create your own simple pages\\n    <li>\\n     read and appreciate pages created by others\\n     <li>\\n      develop an understanding of the creative and literary implications of web-texts\\n      <li>\\n       have the confidence to branch out into more complex web design\\n      </li>\\n     </li>\\n    </li>\\n   </li>\\n  </ul>\\n </p>\\n <p>\\n  A HTML web page is made up of tags. Tags are placed in brackets like this\\n  <b>\\n   &lt; tag &gt;\\n  </b>\\n  . A tag tells the browser how to display information. Most tags need to be opened &lt; tag &gt; and closed &lt; /tag &gt;.\\n  <p>\\n   To make a simple web page you need to know only four tags:\\n   <ul>\\n    <li>\\n     &lt; HTML &gt; tells the browser your page is written in HTML format\\n     <li>\\n      &lt; HEAD &gt; this is a kind of preface of vital information that doesn\\'t appear on the screen.\\n      <li>\\n       &lt; TITLE &gt;Write the title of the web page here - this is the information that viewers see on the upper bar of their screen. (I\\'ve given this page the title \\'webpage1\\').\\n       <li>\\n        &lt; BODY &gt;This is where you put the content of your page, the words and pictures that people read on the screen.\\n       </li>\\n      </li>\\n     </li>\\n    </li>\\n   </ul>\\n   <p>\\n    All these tags need to be closed.\\n    <h4>\\n     EXERCISE\\n    </h4>\\n    <p>\\n     Write a simple web page.\\n    </p>\\n    <p>\\n     Copy out exactly the HTML below, using a WP program such as Notepad.\\n     <br/>\\n     Information in\\n     <i>\\n      italics\\n     </i>\\n     indicates where you can insert your own text, other information is HTML and needs to be exact. However, make sure there are no spaces between the tag brackets and the text inside.\\n     <br/>\\n     (Find Notepad by going to the START menu\\\\ PROGRAMS\\\\ ACCESSORIES\\\\ NOTEPAD).\\n     <p>\\n      &lt; HTML &gt;\\n      <br/>\\n      &lt; HEAD &gt;\\n      <br/>\\n      &lt; TITLE &gt;\\n      <i>\\n       title of page\\n      </i>\\n      &lt; /TITLE &gt;\\n      <br/>\\n      &lt; /HEAD &gt;\\n      <br/>\\n      &lt; BODY&gt;\\n      <br/>\\n      <i>\\n       write what you like here: \\'my first web page\\', or a piece about what you are reading, or a few thoughts on the course, or copy out a few words from a book or cornflake packet.  Just type in your words using no extras such as bold, or italics, as these have special HTML tags, although you may use upper and lower case letters and single spaces.\\n      </i>\\n      <br/>\\n      &lt; /BODY &gt;\\n      <br/>\\n      &lt; /HTML &gt;\\n      <br/>\\n      <p>\\n       Save the file as \\'first.html\\' (ie. call the file anything at all) It\\'s useful if you start a folder - just as you would for word-processing - and call it something like WEBPAGES, and put your first.html file in the folder.\\n       <p>\\n        NOW - open your browser.\\n        <br/>\\n        On Netscape the process is:\\n        <br/>\\n        Top menu; FILE\\\\ OPEN PAGE\\\\ CHOOSE FILE\\n        <br/>\\n        Click on your WEBPAGES folder\\\\ FIRST file\\n        <br/>\\n        Click \\'open\\' and your page should appear.\\n        <p>\\n         On Internet Explorer:\\n         <br/>\\n         Top menu; FILE\\\\ OPEN\\\\ BROWSE\\n         <br/>\\n         Click on your WEBPAGES folder\\\\ FIRST file\\n         <br/>\\n         Click \\'open\\' and your page should appear.\\n         <br/>\\n         <p>\\n          If the page doesn\\'t open, go back over your notepad typing and make sure that all the HTML tags are correct. Check there are no spaces between tags and internal text; check that all tags are closed; check that you haven\\'t written &lt; HTLM &gt; or &lt; BDDY &gt;.  Your page will work eventually.\\n          <p>\\n           Make another page. Call it somethingdifferent.html and place it in the same WEBPAGES folder as detailed above.\\n           <p>\\n            start formatting in\\n            <a href=\"webpage2.html\">\\n             lesson two\\n            </a>\\n            <br/>\\n            <a href=\"col3.html\">\\n             back to wws index\\n            </a>\\n           </p>\\n          </p>\\n         </p>\\n        </p>\\n       </p>\\n      </p>\\n     </p>\\n    </p>\\n   </p>\\n  </p>\\n </p>\\n</p>'"
            ]
          },
          "metadata": {
            "tags": []
          },
          "execution_count": 22
        }
      ]
    },
    {
      "cell_type": "code",
      "metadata": {
        "id": "wk7Xv5gsg-eC",
        "colab_type": "code",
        "colab": {
          "base_uri": "https://localhost:8080/",
          "height": 54
        },
        "outputId": "c6c7d503-6ec2-460b-d0fd-7ba6df2fb927"
      },
      "source": [
        "info.next_element"
      ],
      "execution_count": 23,
      "outputs": [
        {
          "output_type": "execute_result",
          "data": {
            "text/plain": [
              "'There are lots of ways to create web pages using already coded programmes. These lessons will teach you how to use the underlying HyperText Markup Language -  HTML. '"
            ]
          },
          "metadata": {
            "tags": []
          },
          "execution_count": 23
        }
      ]
    },
    {
      "cell_type": "code",
      "metadata": {
        "id": "-jRifaMGgeJX",
        "colab_type": "code",
        "colab": {
          "base_uri": "https://localhost:8080/",
          "height": 34
        },
        "outputId": "113472b1-4539-4eaf-ecf7-75d9d5bb4db8"
      },
      "source": [
        "info.next_element.next_element"
      ],
      "execution_count": 24,
      "outputs": [
        {
          "output_type": "execute_result",
          "data": {
            "text/plain": [
              "<br/>"
            ]
          },
          "metadata": {
            "tags": []
          },
          "execution_count": 24
        }
      ]
    },
    {
      "cell_type": "code",
      "metadata": {
        "id": "nboAyvQkleCO",
        "colab_type": "code",
        "colab": {
          "base_uri": "https://localhost:8080/",
          "height": 54
        },
        "outputId": "ba349383-efd7-459a-91b7-69e2cece5060"
      },
      "source": [
        "info.next"
      ],
      "execution_count": 25,
      "outputs": [
        {
          "output_type": "execute_result",
          "data": {
            "text/plain": [
              "'There are lots of ways to create web pages using already coded programmes. These lessons will teach you how to use the underlying HyperText Markup Language -  HTML. '"
            ]
          },
          "metadata": {
            "tags": []
          },
          "execution_count": 25
        }
      ]
    },
    {
      "cell_type": "code",
      "metadata": {
        "id": "QSjwe4mtls5z",
        "colab_type": "code",
        "colab": {
          "base_uri": "https://localhost:8080/",
          "height": 34
        },
        "outputId": "09f9e70d-f29e-42a5-b714-f1ebfa1807e7"
      },
      "source": [
        "info.next.next"
      ],
      "execution_count": 26,
      "outputs": [
        {
          "output_type": "execute_result",
          "data": {
            "text/plain": [
              "<br/>"
            ]
          },
          "metadata": {
            "tags": []
          },
          "execution_count": 26
        }
      ]
    },
    {
      "cell_type": "code",
      "metadata": {
        "id": "X0xO5JCAlxC7",
        "colab_type": "code",
        "colab": {
          "base_uri": "https://localhost:8080/",
          "height": 54
        },
        "outputId": "1ab2cbc8-6fbe-4755-d86f-8a8f5d878a9a"
      },
      "source": [
        "info.next.next.next.next"
      ],
      "execution_count": 27,
      "outputs": [
        {
          "output_type": "execute_result",
          "data": {
            "text/plain": [
              "\"HTML isn't computer code, but is a language that uses US English to enable texts (words, images, sounds) to be inserted and formatting such as colo(u)r and centre/ering to be written in. The process is fairly simple; the main difficulties often lie in small mistakes - if you slip up while word processing your reader may pick up your typos, but the page will still be legible. However, if your HTML is inaccurate the page may not appear - writing web pages is, at the least, very good practice for proof reading!\""
            ]
          },
          "metadata": {
            "tags": []
          },
          "execution_count": 27
        }
      ]
    },
    {
      "cell_type": "code",
      "metadata": {
        "id": "5ca2RHatl6Rx",
        "colab_type": "code",
        "colab": {
          "base_uri": "https://localhost:8080/",
          "height": 54
        },
        "outputId": "46256110-859f-48dc-eb59-150bf48258f5"
      },
      "source": [
        "info.next_element.next_element.next_element.next_element"
      ],
      "execution_count": 28,
      "outputs": [
        {
          "output_type": "execute_result",
          "data": {
            "text/plain": [
              "\"HTML isn't computer code, but is a language that uses US English to enable texts (words, images, sounds) to be inserted and formatting such as colo(u)r and centre/ering to be written in. The process is fairly simple; the main difficulties often lie in small mistakes - if you slip up while word processing your reader may pick up your typos, but the page will still be legible. However, if your HTML is inaccurate the page may not appear - writing web pages is, at the least, very good practice for proof reading!\""
            ]
          },
          "metadata": {
            "tags": []
          },
          "execution_count": 28
        }
      ]
    },
    {
      "cell_type": "markdown",
      "metadata": {
        "id": "NjY78o_smhJN",
        "colab_type": "text"
      },
      "source": [
        "เดินกลับไปหาโหนดก่อนหน้า"
      ]
    },
    {
      "cell_type": "code",
      "metadata": {
        "id": "8yFsFElzmD6U",
        "colab_type": "code",
        "colab": {
          "base_uri": "https://localhost:8080/",
          "height": 54
        },
        "outputId": "ad9228e4-bbd0-4d9b-b371-95da75f00eba"
      },
      "source": [
        "order = body.find('ul')\n",
        "order"
      ],
      "execution_count": 29,
      "outputs": [
        {
          "output_type": "execute_result",
          "data": {
            "text/plain": [
              "<ul><li>create your own simple pages<li>read and appreciate pages created by others<li>develop an understanding of the creative and literary implications of web-texts<li>have the confidence to branch out into more complex web design </li></li></li></li></ul>"
            ]
          },
          "metadata": {
            "tags": []
          },
          "execution_count": 29
        }
      ]
    },
    {
      "cell_type": "code",
      "metadata": {
        "id": "K60raEsHnMAu",
        "colab_type": "code",
        "colab": {
          "base_uri": "https://localhost:8080/",
          "height": 34
        },
        "outputId": "a7989467-31a1-42db-f305-6fe2997c4130"
      },
      "source": [
        "order.previous_sibling"
      ],
      "execution_count": 30,
      "outputs": [
        {
          "output_type": "execute_result",
          "data": {
            "text/plain": [
              "'Learning HTML will enable you to:'"
            ]
          },
          "metadata": {
            "tags": []
          },
          "execution_count": 30
        }
      ]
    },
    {
      "cell_type": "code",
      "metadata": {
        "id": "gAuv9lX3nZBX",
        "colab_type": "code",
        "colab": {
          "base_uri": "https://localhost:8080/",
          "height": 54
        },
        "outputId": "32e475e4-cb16-462a-96bd-5711f7ba12cb"
      },
      "source": [
        "order"
      ],
      "execution_count": 31,
      "outputs": [
        {
          "output_type": "execute_result",
          "data": {
            "text/plain": [
              "<ul><li>create your own simple pages<li>read and appreciate pages created by others<li>develop an understanding of the creative and literary implications of web-texts<li>have the confidence to branch out into more complex web design </li></li></li></li></ul>"
            ]
          },
          "metadata": {
            "tags": []
          },
          "execution_count": 31
        }
      ]
    }
  ]
}