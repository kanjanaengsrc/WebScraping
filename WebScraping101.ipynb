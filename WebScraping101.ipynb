{
  "nbformat": 4,
  "nbformat_minor": 0,
  "metadata": {
    "colab": {
      "name": "WebScraping101.ipynb",
      "provenance": [],
      "collapsed_sections": [],
      "authorship_tag": "ABX9TyOYJXFyvVex582DhIyqeTbx",
      "include_colab_link": true
    },
    "kernelspec": {
      "name": "python3",
      "display_name": "Python 3"
    }
  },
  "cells": [
    {
      "cell_type": "markdown",
      "metadata": {
        "id": "view-in-github",
        "colab_type": "text"
      },
      "source": [
        "<a href=\"https://colab.research.google.com/github/kanjanaengsrc/WebScraping/blob/master/WebScraping101.ipynb\" target=\"_parent\"><img src=\"https://colab.research.google.com/assets/colab-badge.svg\" alt=\"Open In Colab\"/></a>"
      ]
    },
    {
      "cell_type": "markdown",
      "metadata": {
        "id": "f-O3D8M-WNBb",
        "colab_type": "text"
      },
      "source": [
        "# การดึงข้อมูลจากเว็บไซต์ด้วยไพธอนและไลบรารี Beautiful Soup Version 4 (BS4)\n"
      ]
    },
    {
      "cell_type": "markdown",
      "metadata": {
        "id": "g4xeUmMvCrvk",
        "colab_type": "text"
      },
      "source": [
        "*   ใช้ Library สำหรับอ่านข้อมูลจาก url ที่ระบุด้วย urllib\n",
        "*   ใช้ library BeautifulSoup (BS4) สำหรับอ่าน DOM\n",
        "\n",
        "\n",
        "/*** เสริม!! หากต้องการดูลำดับและค้นหา tag name ต่าง ๆ ใน html code เราสามารถใช้โค้ด JS ต่อไปนี้ ไปรันใน browser console **/\n",
        "\n",
        "\n",
        "```\n",
        "var i = 1;\n",
        "[].forEach.call(document.getElementsByTagName(\"TAGNAME\"),\n",
        "   function(x) { \n",
        "     console.log(i++, x); \n",
        "   });\n",
        "```"
      ]
    },
    {
      "cell_type": "code",
      "metadata": {
        "id": "XePx7aPqPKuJ",
        "colab_type": "code",
        "colab": {}
      },
      "source": [
        "from urllib.request import urlopen, Request\n",
        "from bs4 import BeautifulSoup"
      ],
      "execution_count": 0,
      "outputs": []
    },
    {
      "cell_type": "markdown",
      "metadata": {
        "id": "nSUY2aIcbrWE",
        "colab_type": "text"
      },
      "source": [
        "ฟังก์ชัน readHtml ทำหน้าที่สร้าง http header และส่ง request ไปยัง url ที่กำหนด\n",
        "เหตุผลที่ต้องสร้าง header คือ server บางตัวทำการตรวจสอบ abnormal access ก่อน หากพบว่าผิดปกติจะไม่ให้เข้าถึงทันที (Forbidden 403)\n",
        "\n",
        "**หากต้องการพิสูจน์เรื่อง header ให้ลบ header ในโค้ดออก และเปลี่ยน url สำหรับดึงข้อมูลเป็น url = \"https://www.freecodecamp.org/news/html-and-html5-example/\""
      ]
    },
    {
      "cell_type": "code",
      "metadata": {
        "id": "FlY6iZK7R6_e",
        "colab_type": "code",
        "colab": {}
      },
      "source": [
        "def readHtml(reg_url):\n",
        "  headers = {'User-Agent': 'Mozilla/5.0 (Windows NT 6.1) AppleWebKit/537.36 (KHTML, like Gecko) Chrome/41.0.2228.0 Safari/537.3'}\n",
        "  req = Request(url=reg_url, headers=headers) \n",
        "  return urlopen(req).read().decode('utf-8')"
      ],
      "execution_count": 0,
      "outputs": []
    },
    {
      "cell_type": "markdown",
      "metadata": {
        "id": "alJqidAgEgXx",
        "colab_type": "text"
      },
      "source": [
        "ในฟังก์ชัน showContents แสดงการใช้ฟังก์ชัน get_text() เพื่อเอาข้อมูลใน element มาแสดงผล\n"
      ]
    },
    {
      "cell_type": "code",
      "metadata": {
        "id": "90gpeuxW9bTc",
        "colab_type": "code",
        "colab": {}
      },
      "source": [
        "def showContents(contents):\n",
        "  for content in contents:\n",
        "    print(content.get_text())"
      ],
      "execution_count": 0,
      "outputs": []
    },
    {
      "cell_type": "markdown",
      "metadata": {
        "id": "bngiFnARES00",
        "colab_type": "text"
      },
      "source": [
        "ในฟังก์ชัน showLinks แสดงการใช้ฟังก์ชัน get พร้อมกับระบุ attribute ของสิ่งที่ต้องการ"
      ]
    },
    {
      "cell_type": "code",
      "metadata": {
        "id": "X479wVuyCQ7-",
        "colab_type": "code",
        "colab": {}
      },
      "source": [
        "def showLinks(links):\n",
        "  for link in links:\n",
        "    print(link.get_text(), end=\" \")\n",
        "    print(link.get('href'))"
      ],
      "execution_count": 0,
      "outputs": []
    },
    {
      "cell_type": "markdown",
      "metadata": {
        "id": "NulenGOvDUhI",
        "colab_type": "text"
      },
      "source": [
        "โปรแกรมเริ่มต้นการทำงานด้วยการสร้างต้นไม้ประเภทหนึ่งชื่อว่า DOM tree โดยการเรียกใช้ library BS4 ซึ่งระบุพารามิเตอร์ไว้ 2 ตัวคือ\n",
        "\n",
        "1.   สตริงที่เขียนด้วยไวยากรณ์ภาษา markup language\n",
        "2.   ชื่อ parser (ในที่นี้ใช้ html parser เนื่องจากอาร์กิวเม้นต์ในลำดับแรกมีลักษณะเป็นภาษา html)"
      ]
    },
    {
      "cell_type": "code",
      "metadata": {
        "id": "KzTXesKw6P_N",
        "colab_type": "code",
        "colab": {}
      },
      "source": [
        "url = \"https://www.york.ac.uk/teaching/cws/wws/webpage1.html\"\n",
        "data = readHtml(url).replace('\\n','')"
      ],
      "execution_count": 0,
      "outputs": []
    },
    {
      "cell_type": "code",
      "metadata": {
        "id": "hPlWLOYs9Grk",
        "colab_type": "code",
        "colab": {
          "base_uri": "https://localhost:8080/",
          "height": 54
        },
        "outputId": "b6c7d574-ad7c-4e35-9d07-d85550d4d8a2"
      },
      "source": [
        "data"
      ],
      "execution_count": 24,
      "outputs": [
        {
          "output_type": "execute_result",
          "data": {
            "text/plain": [
              "'<HMTL><HEAD><TITLE>webpage4</TITLE></HEAD><BODY BGCOLOR=\"FFFFFf\" LINK=\"006666\" ALINK=\"8B4513\" VLINK=\"006666\"><TABLE WIDTH=\"75%\" ALIGN=\"center\"><TR><TD><DIV ALIGN=\"center\"><IMG SRC=\"textasimage.gif\" ALT=\"THE WORD IMAGES\"></DIV><P> &nbsp; </P><DIV ALIGN=\"justify\">The third characteristic of web page writing is the blurring of boundaries between words and images. The technology of the web encourages this: in work devised for the screen it is nearly as easy, and as inexpensive, to insert an image instead of written text. For instance, the title of this page - \\'IMAGES\\' - is a simple image prepared in Photoshop (view \\'SOURCE\\' to check this out). </P><P><P>This lesson introduces you to working with images - a huge topic in itself. I offer some suggestions for obtaining images, show you how to insert an image in a web page, and how to make a hyperlink from that image. </P><H4>OBTAINING IMAGES</H4><P>There are three main ways to get hold of images for use in web pages.<OL><LI>Use an image from the clip art packages offered with systems such as Microsoft Works.</LI><LI>Take images from the web. This is remarkably easy:</LI><UL>\\t<LI>If you see an image you like on a web page, move your mouse over the image. </LI>\\t<LI>Right click your mouse, and select \\'Save picture as\\'</LI>. (Try this with the title image at the top of the page). \\t<LI>Save the file: it is best if you create a New Folder called something like IMAGES, and place this folder in your WEBPAGES folder. The saving is very similar to the process involved in saving a Word or WordPerfect file; the main difference is that you will notice the file is called \\'something.jpg\\' (or jpeg) or \\'something.gif\\'. You can change the name (the \\'something\\' of the file designation) but you must retain the format extension (ie jpg/jpeg or gif).</LI><BR>COPYRIGHT: Though few people are likely to be concerned about you taking an image for personal use, you must always respect the artists right over their work, as you would for work offered in books and journals. For master\\'s essays, which are not published work, it is acceptable to use images without asking for permission SO LONG AS YOU SUPPLY A FULL REFERENCE. For Master\\'s dissertations, and especially for PhD work, the area is more complex and the issues of copyright are still being resolved. If in doubt, write to the web designer and ask for permission. </UL><LI>Create your own.</LI><UL>\\t<LI>Use any image-manipultaing software.<BR>This area of graphics manipulation is obviously a huge area in its own right, and beyond the scope of the course. However, due in part to the popularity of digital photography basic image manipulation software is widely available and easy to use: if you have computer you might well have something bundled in with your computer software. Simple programmes can obtained most months from the \\'free\\' CDs on computer magazines (<I>.Net</I> is one of the best, but check out the others too). You can also download many free programmes - try finding what you need though a GOOGLE search. Of course, you can only use this new material if you have your own computer, as you cannot install new programmes on to the University system.</LI>\\t\\t<LI>Scanners can be very useful. Scan in your image at no more than 150 dpi (dots per inch), though I use 70 dpi for preference. If you do it denser than this the image will take a l-o-n-g t-i-m-e t-o d-o-w-n-l-o-a-d when you open your webpage. You can use photos, published images, and bits and pieces (lace material, crumpled paper, 3D objects ...)  <BR>Don\\'t forget to save the image as a gif or jpg file (ie save it in that formant <B>and</B> give it the appropraite suffix). </LI></OL><P> &nbsp; </P><H4>INSERTING IMAGES</H4><P>The tag used is:<P> < IMG SRC=image.jpg > or < IMG SRC=image.gif ></DIV><H4>Making your inserted image look good</H4><P> You can place your image \"left\" or \"right\" on the page by using a modifying tag like so:<P>< IMG SRC=image.jpg ALIGN=\"right\" ><P>When an image is aligned \"left\" or \"right\" written text will wrap around the image. You can add space between words and image by adding the attributes VSPACE (for vertical space)and HSPACE (for horizontal!)<P>< IMG SRC=image.jpg ALIGN=\"right\" VSPACE=\"5\" HSPACE=\"2\"><P> &nbsp; </P><P> &nbsp; </P><P> &nbsp; </P><P> &nbsp; </P><H4>MAKING LINKS FROM IMAGES</H4><A HREF=\"/inst/cws/ \" TARGET=\"_BLANK\"><IMG SRC=\"toofar.gif\" ALT=\"feminist cartoon\" ALIGN=\"left\" VSPACE=\"5\" HSPACE=\"25\"></A><P> This is done in exactly the same way as linking text files, by using the < A > tag. <P>The basic code for inserting the image to the left is:<P>< A HREF=\"http://www.york.ac.uk/inst/cws/ \" ><BR>< IMG SRC=\"toofar.gif\"  ALIGN=\"left\">< /A><P> the url after < A HREF    > is the name of the destination site (in this case the CWS home page)<p>\\'too far.gif\\' is the name I gave to the linking image - the cartoon.<P> If I had wanted to remove the default border from the cartoon linking image I could have added \"BORDER=\"0\" inside the < A > tag.<P>&nbsp;</P><H4>EXERCISE</H4><UL><LI> Surf the web and pick up a few images as instructed above. Save them in your IMAGES folder. <LI> Insert an image in one of your web pages with some text.  Move the image around: Align it \\'left\\' or \\'right\\' and look to see what happens. Try adjusting the \\'V\\' (vertical) and \\'H\\'(horizontal) properties. Add and remove the image border. <LI>When you are happy with the format of the page, make a link from the image to another web page.</UL><P> &nbsp; </P><P>links:<BR>lesson one: <A HREF=\"webpage1.html\"><U>A Simple Web Page</U></A> &nbsp; &nbsp; lesson two: <A HREF=\"webpage2.html\"><U>Simple Formatting</U></A><BR>lesson three: <A HREF=\"webpage3.html\"><U>Linking Web Texts</U></A></P><P><A HREF=\"col3.html\">back to wws index</A> </P></P>  </DIV></TD></TR></TABLE></BODY></HTML>'"
            ]
          },
          "metadata": {
            "tags": []
          },
          "execution_count": 24
        }
      ]
    },
    {
      "cell_type": "code",
      "metadata": {
        "id": "tf9X7m20DXlv",
        "colab_type": "code",
        "colab": {}
      },
      "source": [
        "soup = BeautifulSoup(data,'html.parser')"
      ],
      "execution_count": 0,
      "outputs": []
    },
    {
      "cell_type": "markdown",
      "metadata": {
        "id": "1mfzDkgEGi-l",
        "colab_type": "text"
      },
      "source": [
        "เราสามารถดูต้นไม้ที่สร้างขึ้นได้ด้วยฟังก์ชัน prettify"
      ]
    },
    {
      "cell_type": "code",
      "metadata": {
        "id": "budwDtH0M6LA",
        "colab_type": "code",
        "colab": {}
      },
      "source": [
        "soup.prettify()"
      ],
      "execution_count": 0,
      "outputs": []
    },
    {
      "cell_type": "markdown",
      "metadata": {
        "id": "pOS3kRLAXbPX",
        "colab_type": "text"
      },
      "source": [
        "# การค้นหาข้อมูลใน DOM Tree"
      ]
    },
    {
      "cell_type": "markdown",
      "metadata": {
        "id": "sx1GWj0bD5_o",
        "colab_type": "text"
      },
      "source": [
        "ทดลองค้นหาข้อมูลภายใน element ต่าง ๆ ผ่านฟังก์ชัน \n",
        "\n",
        "\n",
        "1. find.TAGNAME.contents\n",
        "2. find.TAGNAME.children\n",
        "3. find('TAGNAME')\n",
        "4. find+attrs (แบบระบุ attributes)\n",
        "5. find+string\n",
        "\n",
        "การใช้ฟังก์ชันเหล่านี้จะได้ผลลัพธ์ออกมาเพียง element เดียว ซึ่งเป็น element อันดับแรกนับจากรากของต้นไม้ DOM"
      ]
    },
    {
      "cell_type": "code",
      "metadata": {
        "id": "6ADU-UoJPOfM",
        "colab_type": "code",
        "colab": {}
      },
      "source": [
        "body = soup.body.contents\n",
        "ex = soup.find('h4')\n",
        "value = soup.find(string='INSERTING IMAGES')\n",
        "table = soup.find(attrs={\n",
        "    'align':'left'\n",
        "})\n",
        "data = soup.find('div',attrs={\n",
        "    'align':'center'\n",
        "})"
      ],
      "execution_count": 0,
      "outputs": []
    },
    {
      "cell_type": "code",
      "metadata": {
        "id": "r9mk1WuuVzOu",
        "colab_type": "code",
        "colab": {}
      },
      "source": [
        "print('---Result of body---',body)\n",
        "print('Result of ex',ex.get_text())\n",
        "print('Result of value',value)\n",
        "print('Result of table',table)\n",
        "print('Result of data',data)"
      ],
      "execution_count": 0,
      "outputs": []
    },
    {
      "cell_type": "markdown",
      "metadata": {
        "id": "QvU0rMBVQide",
        "colab_type": "text"
      },
      "source": [
        "หากไม่ต้องการให้ผลลัพธ์เก็บอยู่ในตัวแปร list แล้ว เราสามารถเรียกใช้ generator ที่ชื่อว่า children เพื่อวนรอบทำงานได้เลย\n",
        "**ถึงแม้การใช้ find กับ children จะได้ผลลัพธ์เหมือนกัน แต่ optimization ต่างกัน"
      ]
    },
    {
      "cell_type": "code",
      "metadata": {
        "id": "KfWdOZDlQT14",
        "colab_type": "code",
        "colab": {
          "base_uri": "https://localhost:8080/",
          "height": 68
        },
        "outputId": "484c553f-a02c-4d98-b8ea-3c1cc898ff6b"
      },
      "source": [
        "for child in soup.table.tr.td.children:\n",
        "  if(child.name != None):\n",
        "    print(child.name)"
      ],
      "execution_count": 20,
      "outputs": [
        {
          "output_type": "stream",
          "text": [
            "div\n",
            "p\n",
            "div\n"
          ],
          "name": "stdout"
        }
      ]
    },
    {
      "cell_type": "markdown",
      "metadata": {
        "id": "Fy174jqoN96i",
        "colab_type": "text"
      },
      "source": [
        "การค้นหาข้อมูลในต้นไม้ DOM อีกวิธีหนึ่งคือ find_all ซึ่งจะได้ผลลัพธ์ออกมามากกว่า 1 element และข้อมูลเก็บอยู่ในรูปของ list"
      ]
    },
    {
      "cell_type": "code",
      "metadata": {
        "id": "kLgDLA89OpJs",
        "colab_type": "code",
        "colab": {}
      },
      "source": [
        "heads = soup.find_all('h4')\n",
        "links = soup.find_all('a')\n",
        "print('----Result of heads----')\n",
        "showContents(heads)\n",
        "print('----Result of links----')\n",
        "showLinks(links)"
      ],
      "execution_count": 0,
      "outputs": []
    },
    {
      "cell_type": "markdown",
      "metadata": {
        "id": "hjsiWK6cf8Gn",
        "colab_type": "text"
      },
      "source": [
        "ตัวอย่าง find_all ด้านล่างนี้เป็นการผสม regx เพื่อค้นหา attribute \"href\" ที่มีค่าสตริง .html ประกอบอยู่เท่านั้น ดังจะเห็นได้ว่า สตริง /inst/cws ไม่แสดงออกมาเหมือนตัวอย่างก่อนหน้า"
      ]
    },
    {
      "cell_type": "code",
      "metadata": {
        "id": "dg6suZjvfCwi",
        "colab_type": "code",
        "colab": {}
      },
      "source": [
        "import re\n",
        "#href = soup.find_all(href=re.compile(\".html\"))\n",
        "href = soup.find_all(attrs={\n",
        "    'href':re.compile(\".html\")\n",
        "})"
      ],
      "execution_count": 0,
      "outputs": []
    },
    {
      "cell_type": "code",
      "metadata": {
        "id": "Tj533hiCI9yq",
        "colab_type": "code",
        "colab": {
          "base_uri": "https://localhost:8080/",
          "height": 85
        },
        "outputId": "aca3e0b8-08af-4415-a0b5-2d5aa141b28c"
      },
      "source": [
        "href"
      ],
      "execution_count": 23,
      "outputs": [
        {
          "output_type": "execute_result",
          "data": {
            "text/plain": [
              "[<a href=\"webpage1.html\"><u>A Simple Web Page</u></a>,\n",
              " <a href=\"webpage2.html\"><u>Simple Formatting</u></a>,\n",
              " <a href=\"webpage3.html\"><u>Linking Web Texts</u></a>,\n",
              " <a href=\"col3.html\">back to wws index</a>]"
            ]
          },
          "metadata": {
            "tags": []
          },
          "execution_count": 23
        }
      ]
    },
    {
      "cell_type": "markdown",
      "metadata": {
        "id": "RcLCuDBmXw4z",
        "colab_type": "text"
      },
      "source": [
        "# การเดินทางใน DOM Tree (Traverse the DOM Tree)"
      ]
    },
    {
      "cell_type": "markdown",
      "metadata": {
        "id": "i1Tbpr7qYHrO",
        "colab_type": "text"
      },
      "source": [
        "\n",
        "\n",
        "> ให้เราจินตนาการว่าเราเดินทางไปในแต่ละกิ่งก้านของต้นไม้ สิ่งที่ต้องรู้จักคือ node ปัจจุบัน, node พ่อแม่, node น้อง (โหนดทางขวามือ), node พี่ (โหนดทางซ้ายมือ) และ node ลูก (เรื่องเดียวกับที่เรียนในวิชา Data Structures)\n",
        "> สำหรับไลบรารี BS4 มีเครื่องมือให้เราเดินทางในต้นไม้ไว้เรียบร้อยแล้ว แบ่งประเภทการเดินทางออกเป็น 3 แบบคือ\n",
        "\n",
        "\n",
        "1. เดินขึ้น ใช้ฟังก์ชัน\n",
        "2. เดินลง\n",
        "3. เดินในระดับเดียวกัน\n",
        "\n",
        "โค้ดต่อไปนี้จะเริ่มเดินทางจาก body ของเพจ\n",
        "\n",
        "\n",
        "\n",
        "\n",
        "\n",
        "\n"
      ]
    },
    {
      "cell_type": "code",
      "metadata": {
        "id": "irsC0ybEYFrg",
        "colab_type": "code",
        "colab": {}
      },
      "source": [
        "body = soup.body"
      ],
      "execution_count": 0,
      "outputs": []
    },
    {
      "cell_type": "markdown",
      "metadata": {
        "id": "yVR9kKF2_wTP",
        "colab_type": "text"
      },
      "source": [
        "ทำการเดินขึ้นไปยังโหนดพ่อแม่ของ body ซึ่งก็คือ element ของ html ทั้งหมด"
      ]
    },
    {
      "cell_type": "code",
      "metadata": {
        "id": "xV_Fb63dyG1c",
        "colab_type": "code",
        "colab": {
          "base_uri": "https://localhost:8080/",
          "height": 54
        },
        "outputId": "fdaa09f5-d0bc-4cce-c563-c58608385e48"
      },
      "source": [
        "body.parent"
      ],
      "execution_count": 6,
      "outputs": [
        {
          "output_type": "execute_result",
          "data": {
            "text/plain": [
              "<hmtl><head><title>webpage1</title></head><body alink=\"8B4513\" bgcolor=\"FFFFFf\" link=\"006666\" vlink=\"006666\"><table align=\"center\" width=\"75%\"><tr><td><div align=\"center\"><h1>STARTING . . . </h1></div><div align=\"justify\"><p>There are lots of ways to create web pages using already coded programmes. These lessons will teach you how to use the underlying HyperText Markup Language -  HTML. <br/><p>HTML isn't computer code, but is a language that uses US English to enable texts (words, images, sounds) to be inserted and formatting such as colo(u)r and centre/ering to be written in. The process is fairly simple; the main difficulties often lie in small mistakes - if you slip up while word processing your reader may pick up your typos, but the page will still be legible. However, if your HTML is inaccurate the page may not appear - writing web pages is, at the least, very good practice for proof reading!</p><p>Learning HTML will enable you to:<ul><li>create your own simple pages<li>read and appreciate pages created by others<li>develop an understanding of the creative and literary implications of web-texts<li>have the confidence to branch out into more complex web design </li></li></li></li></ul></p><p>A HTML web page is made up of tags. Tags are placed in brackets like this <b>&lt; tag &gt; </b>. A tag tells the browser how to display information. Most tags need to be opened &lt; tag &gt; and closed &lt; /tag &gt;.<p> To make a simple web page you need to know only four tags:<ul><li>&lt; HTML &gt; tells the browser your page is written in HTML format<li>&lt; HEAD &gt; this is a kind of preface of vital information that doesn't appear on the screen. <li>&lt; TITLE &gt;Write the title of the web page here - this is the information that viewers see on the upper bar of their screen. (I've given this page the title 'webpage1').<li>&lt; BODY &gt;This is where you put the content of your page, the words and pictures that people read on the screen. </li></li></li></li></ul><p>All these tags need to be closed.<h4>EXERCISE</h4><p>Write a simple web page.</p><p> Copy out exactly the HTML below, using a WP program such as Notepad.<br/>Information in <i>italics</i> indicates where you can insert your own text, other information is HTML and needs to be exact. However, make sure there are no spaces between the tag brackets and the text inside.<br/>(Find Notepad by going to the START menu\\ PROGRAMS\\ ACCESSORIES\\ NOTEPAD). <p>&lt; HTML &gt;<br/>&lt; HEAD &gt;<br/>&lt; TITLE &gt;<i> title of page</i>&lt; /TITLE &gt;<br/>&lt; /HEAD &gt;<br/>&lt; BODY&gt;<br/><i> write what you like here: 'my first web page', or a piece about what you are reading, or a few thoughts on the course, or copy out a few words from a book or cornflake packet.  Just type in your words using no extras such as bold, or italics, as these have special HTML tags, although you may use upper and lower case letters and single spaces. </i><br/>&lt; /BODY &gt;<br/>&lt; /HTML &gt;<br/><p>Save the file as 'first.html' (ie. call the file anything at all) It's useful if you start a folder - just as you would for word-processing - and call it something like WEBPAGES, and put your first.html file in the folder.<p>NOW - open your browser.<br/>On Netscape the process is: <br/>  Top menu; FILE\\ OPEN PAGE\\ CHOOSE FILE<br/> Click on your WEBPAGES folder\\ FIRST file<br/>Click 'open' and your page should appear.<p>On Internet Explorer: <br/>Top menu; FILE\\ OPEN\\ BROWSE <br/> Click on your WEBPAGES folder\\ FIRST file<br/>Click 'open' and your page should appear.<br/><p>If the page doesn't open, go back over your notepad typing and make sure that all the HTML tags are correct. Check there are no spaces between tags and internal text; check that all tags are closed; check that you haven't written &lt; HTLM &gt; or &lt; BDDY &gt;.  Your page will work eventually. <p>Make another page. Call it somethingdifferent.html and place it in the same WEBPAGES folder as detailed above.<p>start formatting in <a href=\"webpage2.html\">lesson two</a><br/><a href=\"col3.html\">back to wws index</a> </p></p> </p></p></p></p></p></p></p></p></p></p></div></td></tr></table></body></hmtl>"
            ]
          },
          "metadata": {
            "tags": []
          },
          "execution_count": 6
        }
      ]
    },
    {
      "cell_type": "markdown",
      "metadata": {
        "id": "YmqkOut6AAwe",
        "colab_type": "text"
      },
      "source": [
        "เดินดูลูกทุกคนของ body ว่ามีใครบ้าง (เอาเฉพาะชื่อ tag มาเท่านั้น)\n",
        "จะพบว่ามีโหนดลูกเพียงโหนดเดียวคือ table"
      ]
    },
    {
      "cell_type": "code",
      "metadata": {
        "id": "T7O9LJeHzlNO",
        "colab_type": "code",
        "colab": {
          "base_uri": "https://localhost:8080/",
          "height": 34
        },
        "outputId": "3f0e87e6-5e0d-4966-a292-ccc422239d49"
      },
      "source": [
        "for child in body.children:\n",
        "  print(child.name)"
      ],
      "execution_count": 7,
      "outputs": [
        {
          "output_type": "stream",
          "text": [
            "table\n"
          ],
          "name": "stdout"
        }
      ]
    },
    {
      "cell_type": "markdown",
      "metadata": {
        "id": "AuxiUqBoAzGW",
        "colab_type": "text"
      },
      "source": [
        "จาก html code ที่นำมาใช้ พบว่าข้อมูลที่ปรากฎบนเว็บอยู่ใน element ของ td แรกของ table\n",
        "และเพื่อให้เห็นภาพชัดเจนขึ้น จึงแสดงโหนดลูกของ td พร้อมกับ attribute ของ tag แต่ละอันดังนี้"
      ]
    },
    {
      "cell_type": "code",
      "metadata": {
        "id": "KYIb7OdX1VSP",
        "colab_type": "code",
        "colab": {
          "base_uri": "https://localhost:8080/",
          "height": 51
        },
        "outputId": "7869f141-d24b-4631-8d27-1e5aa4c3f54f"
      },
      "source": [
        "for tdchild in body.table.tr.td.children:\n",
        "  print(tdchild.name,'with ',tdchild.attrs)"
      ],
      "execution_count": 9,
      "outputs": [
        {
          "output_type": "stream",
          "text": [
            "div with  {'align': 'center'}\n",
            "div with  {'align': 'justify'}\n"
          ],
          "name": "stdout"
        }
      ]
    },
    {
      "cell_type": "markdown",
      "metadata": {
        "id": "evSeCL6bS2dv",
        "colab_type": "text"
      },
      "source": [
        "อยากไปหาน้องของพี่คนโต (div align center) ใช้ฟังก์ชัน next_sibling "
      ]
    },
    {
      "cell_type": "code",
      "metadata": {
        "id": "pToluXN1LcZL",
        "colab_type": "code",
        "colab": {
          "base_uri": "https://localhost:8080/",
          "height": 54
        },
        "outputId": "fbc538e6-ad8c-4376-abf0-861780048e6f"
      },
      "source": [
        "body.table.tr.td.div.next_sibling"
      ],
      "execution_count": 10,
      "outputs": [
        {
          "output_type": "execute_result",
          "data": {
            "text/plain": [
              "<div align=\"justify\"><p>There are lots of ways to create web pages using already coded programmes. These lessons will teach you how to use the underlying HyperText Markup Language -  HTML. <br/><p>HTML isn't computer code, but is a language that uses US English to enable texts (words, images, sounds) to be inserted and formatting such as colo(u)r and centre/ering to be written in. The process is fairly simple; the main difficulties often lie in small mistakes - if you slip up while word processing your reader may pick up your typos, but the page will still be legible. However, if your HTML is inaccurate the page may not appear - writing web pages is, at the least, very good practice for proof reading!</p><p>Learning HTML will enable you to:<ul><li>create your own simple pages<li>read and appreciate pages created by others<li>develop an understanding of the creative and literary implications of web-texts<li>have the confidence to branch out into more complex web design </li></li></li></li></ul></p><p>A HTML web page is made up of tags. Tags are placed in brackets like this <b>&lt; tag &gt; </b>. A tag tells the browser how to display information. Most tags need to be opened &lt; tag &gt; and closed &lt; /tag &gt;.<p> To make a simple web page you need to know only four tags:<ul><li>&lt; HTML &gt; tells the browser your page is written in HTML format<li>&lt; HEAD &gt; this is a kind of preface of vital information that doesn't appear on the screen. <li>&lt; TITLE &gt;Write the title of the web page here - this is the information that viewers see on the upper bar of their screen. (I've given this page the title 'webpage1').<li>&lt; BODY &gt;This is where you put the content of your page, the words and pictures that people read on the screen. </li></li></li></li></ul><p>All these tags need to be closed.<h4>EXERCISE</h4><p>Write a simple web page.</p><p> Copy out exactly the HTML below, using a WP program such as Notepad.<br/>Information in <i>italics</i> indicates where you can insert your own text, other information is HTML and needs to be exact. However, make sure there are no spaces between the tag brackets and the text inside.<br/>(Find Notepad by going to the START menu\\ PROGRAMS\\ ACCESSORIES\\ NOTEPAD). <p>&lt; HTML &gt;<br/>&lt; HEAD &gt;<br/>&lt; TITLE &gt;<i> title of page</i>&lt; /TITLE &gt;<br/>&lt; /HEAD &gt;<br/>&lt; BODY&gt;<br/><i> write what you like here: 'my first web page', or a piece about what you are reading, or a few thoughts on the course, or copy out a few words from a book or cornflake packet.  Just type in your words using no extras such as bold, or italics, as these have special HTML tags, although you may use upper and lower case letters and single spaces. </i><br/>&lt; /BODY &gt;<br/>&lt; /HTML &gt;<br/><p>Save the file as 'first.html' (ie. call the file anything at all) It's useful if you start a folder - just as you would for word-processing - and call it something like WEBPAGES, and put your first.html file in the folder.<p>NOW - open your browser.<br/>On Netscape the process is: <br/>  Top menu; FILE\\ OPEN PAGE\\ CHOOSE FILE<br/> Click on your WEBPAGES folder\\ FIRST file<br/>Click 'open' and your page should appear.<p>On Internet Explorer: <br/>Top menu; FILE\\ OPEN\\ BROWSE <br/> Click on your WEBPAGES folder\\ FIRST file<br/>Click 'open' and your page should appear.<br/><p>If the page doesn't open, go back over your notepad typing and make sure that all the HTML tags are correct. Check there are no spaces between tags and internal text; check that all tags are closed; check that you haven't written &lt; HTLM &gt; or &lt; BDDY &gt;.  Your page will work eventually. <p>Make another page. Call it somethingdifferent.html and place it in the same WEBPAGES folder as detailed above.<p>start formatting in <a href=\"webpage2.html\">lesson two</a><br/><a href=\"col3.html\">back to wws index</a> </p></p> </p></p></p></p></p></p></p></p></p></p></div>"
            ]
          },
          "metadata": {
            "tags": []
          },
          "execution_count": 10
        }
      ]
    },
    {
      "cell_type": "markdown",
      "metadata": {
        "id": "UGwooEjvTHs4",
        "colab_type": "text"
      },
      "source": [
        "อยากไปหาลูกคนแรกของน้อง"
      ]
    },
    {
      "cell_type": "code",
      "metadata": {
        "id": "r0_jfA9zJVpV",
        "colab_type": "code",
        "colab": {
          "base_uri": "https://localhost:8080/",
          "height": 54
        },
        "outputId": "1fe09e45-5de6-4e14-c8b4-077c505c5585"
      },
      "source": [
        "body.table.tr.td.div.next_sibling.next_element"
      ],
      "execution_count": 15,
      "outputs": [
        {
          "output_type": "execute_result",
          "data": {
            "text/plain": [
              "<p>There are lots of ways to create web pages using already coded programmes. These lessons will teach you how to use the underlying HyperText Markup Language -  HTML. <br/><p>HTML isn't computer code, but is a language that uses US English to enable texts (words, images, sounds) to be inserted and formatting such as colo(u)r and centre/ering to be written in. The process is fairly simple; the main difficulties often lie in small mistakes - if you slip up while word processing your reader may pick up your typos, but the page will still be legible. However, if your HTML is inaccurate the page may not appear - writing web pages is, at the least, very good practice for proof reading!</p><p>Learning HTML will enable you to:<ul><li>create your own simple pages<li>read and appreciate pages created by others<li>develop an understanding of the creative and literary implications of web-texts<li>have the confidence to branch out into more complex web design </li></li></li></li></ul></p><p>A HTML web page is made up of tags. Tags are placed in brackets like this <b>&lt; tag &gt; </b>. A tag tells the browser how to display information. Most tags need to be opened &lt; tag &gt; and closed &lt; /tag &gt;.<p> To make a simple web page you need to know only four tags:<ul><li>&lt; HTML &gt; tells the browser your page is written in HTML format<li>&lt; HEAD &gt; this is a kind of preface of vital information that doesn't appear on the screen. <li>&lt; TITLE &gt;Write the title of the web page here - this is the information that viewers see on the upper bar of their screen. (I've given this page the title 'webpage1').<li>&lt; BODY &gt;This is where you put the content of your page, the words and pictures that people read on the screen. </li></li></li></li></ul><p>All these tags need to be closed.<h4>EXERCISE</h4><p>Write a simple web page.</p><p> Copy out exactly the HTML below, using a WP program such as Notepad.<br/>Information in <i>italics</i> indicates where you can insert your own text, other information is HTML and needs to be exact. However, make sure there are no spaces between the tag brackets and the text inside.<br/>(Find Notepad by going to the START menu\\ PROGRAMS\\ ACCESSORIES\\ NOTEPAD). <p>&lt; HTML &gt;<br/>&lt; HEAD &gt;<br/>&lt; TITLE &gt;<i> title of page</i>&lt; /TITLE &gt;<br/>&lt; /HEAD &gt;<br/>&lt; BODY&gt;<br/><i> write what you like here: 'my first web page', or a piece about what you are reading, or a few thoughts on the course, or copy out a few words from a book or cornflake packet.  Just type in your words using no extras such as bold, or italics, as these have special HTML tags, although you may use upper and lower case letters and single spaces. </i><br/>&lt; /BODY &gt;<br/>&lt; /HTML &gt;<br/><p>Save the file as 'first.html' (ie. call the file anything at all) It's useful if you start a folder - just as you would for word-processing - and call it something like WEBPAGES, and put your first.html file in the folder.<p>NOW - open your browser.<br/>On Netscape the process is: <br/>  Top menu; FILE\\ OPEN PAGE\\ CHOOSE FILE<br/> Click on your WEBPAGES folder\\ FIRST file<br/>Click 'open' and your page should appear.<p>On Internet Explorer: <br/>Top menu; FILE\\ OPEN\\ BROWSE <br/> Click on your WEBPAGES folder\\ FIRST file<br/>Click 'open' and your page should appear.<br/><p>If the page doesn't open, go back over your notepad typing and make sure that all the HTML tags are correct. Check there are no spaces between tags and internal text; check that all tags are closed; check that you haven't written &lt; HTLM &gt; or &lt; BDDY &gt;.  Your page will work eventually. <p>Make another page. Call it somethingdifferent.html and place it in the same WEBPAGES folder as detailed above.<p>start formatting in <a href=\"webpage2.html\">lesson two</a><br/><a href=\"col3.html\">back to wws index</a> </p></p> </p></p></p></p></p></p></p></p></p></p>"
            ]
          },
          "metadata": {
            "tags": []
          },
          "execution_count": 15
        }
      ]
    },
    {
      "cell_type": "markdown",
      "metadata": {
        "id": "Y00ACkNkbZrb",
        "colab_type": "text"
      },
      "source": [
        "เปรียบเทียบว่าโค้ดก่อนหน้าแสดงลูกคนแรกของ div ตัวที่สองจริงหรือไม่"
      ]
    },
    {
      "cell_type": "code",
      "metadata": {
        "id": "-FTw7lPXbiw5",
        "colab_type": "code",
        "colab": {}
      },
      "source": [
        "for info in body.find('div',attrs={'align': 'justify'}).children:\n",
        "  print('------')\n",
        "  print(info)"
      ],
      "execution_count": 0,
      "outputs": []
    },
    {
      "cell_type": "markdown",
      "metadata": {
        "id": "JZ1ieJXHmk_J",
        "colab_type": "text"
      },
      "source": [
        "ทดลองท่องไปใน element ต่าง ๆ ด้วย next_element และ next ซึ่งได้ผลลัพธ์เหมือนกัน"
      ]
    },
    {
      "cell_type": "code",
      "metadata": {
        "id": "K3t1HrpmeGsl",
        "colab_type": "code",
        "colab": {
          "base_uri": "https://localhost:8080/",
          "height": 54
        },
        "outputId": "3226edd8-230f-46ed-bba3-d792ed3263ab"
      },
      "source": [
        "info.prettify()"
      ],
      "execution_count": 59,
      "outputs": [
        {
          "output_type": "execute_result",
          "data": {
            "text/plain": [
              "'<div align=\"justify\">\\n <p>\\n  There are lots of ways to create web pages using already coded programmes. These lessons will teach you how to use the underlying HyperText Markup Language -  HTML.\\n  <br/>\\n  <p>\\n   HTML isn\\'t computer code, but is a language that uses US English to enable texts (words, images, sounds) to be inserted and formatting such as colo(u)r and centre/ering to be written in. The process is fairly simple; the main difficulties often lie in small mistakes - if you slip up while word processing your reader may pick up your typos, but the page will still be legible. However, if your HTML is inaccurate the page may not appear - writing web pages is, at the least, very good practice for proof reading!\\n  </p>\\n  <p>\\n   Learning HTML will enable you to:\\n   <ul>\\n    <li>\\n     create your own simple pages\\n     <li>\\n      read and appreciate pages created by others\\n      <li>\\n       develop an understanding of the creative and literary implications of web-texts\\n       <li>\\n        have the confidence to branch out into more complex web design\\n       </li>\\n      </li>\\n     </li>\\n    </li>\\n   </ul>\\n  </p>\\n  <p>\\n   A HTML web page is made up of tags. Tags are placed in brackets like this\\n   <b>\\n    &lt; tag &gt;\\n   </b>\\n   . A tag tells the browser how to display information. Most tags need to be opened &lt; tag &gt; and closed &lt; /tag &gt;.\\n   <p>\\n    To make a simple web page you need to know only four tags:\\n    <ul>\\n     <li>\\n      &lt; HTML &gt; tells the browser your page is written in HTML format\\n      <li>\\n       &lt; HEAD &gt; this is a kind of preface of vital information that doesn\\'t appear on the screen.\\n       <li>\\n        &lt; TITLE &gt;Write the title of the web page here - this is the information that viewers see on the upper bar of their screen. (I\\'ve given this page the title \\'webpage1\\').\\n        <li>\\n         &lt; BODY &gt;This is where you put the content of your page, the words and pictures that people read on the screen.\\n        </li>\\n       </li>\\n      </li>\\n     </li>\\n    </ul>\\n    <p>\\n     All these tags need to be closed.\\n     <h4>\\n      EXERCISE\\n     </h4>\\n     <p>\\n      Write a simple web page.\\n     </p>\\n     <p>\\n      Copy out exactly the HTML below, using a WP program such as Notepad.\\n      <br/>\\n      Information in\\n      <i>\\n       italics\\n      </i>\\n      indicates where you can insert your own text, other information is HTML and needs to be exact. However, make sure there are no spaces between the tag brackets and the text inside.\\n      <br/>\\n      (Find Notepad by going to the START menu\\\\ PROGRAMS\\\\ ACCESSORIES\\\\ NOTEPAD).\\n      <p>\\n       &lt; HTML &gt;\\n       <br/>\\n       &lt; HEAD &gt;\\n       <br/>\\n       &lt; TITLE &gt;\\n       <i>\\n        title of page\\n       </i>\\n       &lt; /TITLE &gt;\\n       <br/>\\n       &lt; /HEAD &gt;\\n       <br/>\\n       &lt; BODY&gt;\\n       <br/>\\n       <i>\\n        write what you like here: \\'my first web page\\', or a piece about what you are reading, or a few thoughts on the course, or copy out a few words from a book or cornflake packet.  Just type in your words using no extras such as bold, or italics, as these have special HTML tags, although you may use upper and lower case letters and single spaces.\\n       </i>\\n       <br/>\\n       &lt; /BODY &gt;\\n       <br/>\\n       &lt; /HTML &gt;\\n       <br/>\\n       <p>\\n        Save the file as \\'first.html\\' (ie. call the file anything at all) It\\'s useful if you start a folder - just as you would for word-processing - and call it something like WEBPAGES, and put your first.html file in the folder.\\n        <p>\\n         NOW - open your browser.\\n         <br/>\\n         On Netscape the process is:\\n         <br/>\\n         Top menu; FILE\\\\ OPEN PAGE\\\\ CHOOSE FILE\\n         <br/>\\n         Click on your WEBPAGES folder\\\\ FIRST file\\n         <br/>\\n         Click \\'open\\' and your page should appear.\\n         <p>\\n          On Internet Explorer:\\n          <br/>\\n          Top menu; FILE\\\\ OPEN\\\\ BROWSE\\n          <br/>\\n          Click on your WEBPAGES folder\\\\ FIRST file\\n          <br/>\\n          Click \\'open\\' and your page should appear.\\n          <br/>\\n          <p>\\n           If the page doesn\\'t open, go back over your notepad typing and make sure that all the HTML tags are correct. Check there are no spaces between tags and internal text; check that all tags are closed; check that you haven\\'t written &lt; HTLM &gt; or &lt; BDDY &gt;.  Your page will work eventually.\\n           <p>\\n            Make another page. Call it somethingdifferent.html and place it in the same WEBPAGES folder as detailed above.\\n            <p>\\n             start formatting in\\n             <a href=\"webpage2.html\">\\n              lesson two\\n             </a>\\n             <br/>\\n             <a href=\"col3.html\">\\n              back to wws index\\n             </a>\\n            </p>\\n           </p>\\n          </p>\\n         </p>\\n        </p>\\n       </p>\\n      </p>\\n     </p>\\n    </p>\\n   </p>\\n  </p>\\n </p>\\n</div>'"
            ]
          },
          "metadata": {
            "tags": []
          },
          "execution_count": 59
        }
      ]
    },
    {
      "cell_type": "code",
      "metadata": {
        "id": "wk7Xv5gsg-eC",
        "colab_type": "code",
        "colab": {
          "base_uri": "https://localhost:8080/",
          "height": 54
        },
        "outputId": "473c7a8c-fc07-404a-e9e9-c05ebed79109"
      },
      "source": [
        "info.next_element"
      ],
      "execution_count": 55,
      "outputs": [
        {
          "output_type": "execute_result",
          "data": {
            "text/plain": [
              "<p>There are lots of ways to create web pages using already coded programmes. These lessons will teach you how to use the underlying HyperText Markup Language -  HTML. <br/><p>HTML isn't computer code, but is a language that uses US English to enable texts (words, images, sounds) to be inserted and formatting such as colo(u)r and centre/ering to be written in. The process is fairly simple; the main difficulties often lie in small mistakes - if you slip up while word processing your reader may pick up your typos, but the page will still be legible. However, if your HTML is inaccurate the page may not appear - writing web pages is, at the least, very good practice for proof reading!</p><p>Learning HTML will enable you to:<ul><li>create your own simple pages<li>read and appreciate pages created by others<li>develop an understanding of the creative and literary implications of web-texts<li>have the confidence to branch out into more complex web design </li></li></li></li></ul></p><p>A HTML web page is made up of tags. Tags are placed in brackets like this <b>&lt; tag &gt; </b>. A tag tells the browser how to display information. Most tags need to be opened &lt; tag &gt; and closed &lt; /tag &gt;.<p> To make a simple web page you need to know only four tags:<ul><li>&lt; HTML &gt; tells the browser your page is written in HTML format<li>&lt; HEAD &gt; this is a kind of preface of vital information that doesn't appear on the screen. <li>&lt; TITLE &gt;Write the title of the web page here - this is the information that viewers see on the upper bar of their screen. (I've given this page the title 'webpage1').<li>&lt; BODY &gt;This is where you put the content of your page, the words and pictures that people read on the screen. </li></li></li></li></ul><p>All these tags need to be closed.<h4>EXERCISE</h4><p>Write a simple web page.</p><p> Copy out exactly the HTML below, using a WP program such as Notepad.<br/>Information in <i>italics</i> indicates where you can insert your own text, other information is HTML and needs to be exact. However, make sure there are no spaces between the tag brackets and the text inside.<br/>(Find Notepad by going to the START menu\\ PROGRAMS\\ ACCESSORIES\\ NOTEPAD). <p>&lt; HTML &gt;<br/>&lt; HEAD &gt;<br/>&lt; TITLE &gt;<i> title of page</i>&lt; /TITLE &gt;<br/>&lt; /HEAD &gt;<br/>&lt; BODY&gt;<br/><i> write what you like here: 'my first web page', or a piece about what you are reading, or a few thoughts on the course, or copy out a few words from a book or cornflake packet.  Just type in your words using no extras such as bold, or italics, as these have special HTML tags, although you may use upper and lower case letters and single spaces. </i><br/>&lt; /BODY &gt;<br/>&lt; /HTML &gt;<br/><p>Save the file as 'first.html' (ie. call the file anything at all) It's useful if you start a folder - just as you would for word-processing - and call it something like WEBPAGES, and put your first.html file in the folder.<p>NOW - open your browser.<br/>On Netscape the process is: <br/>  Top menu; FILE\\ OPEN PAGE\\ CHOOSE FILE<br/> Click on your WEBPAGES folder\\ FIRST file<br/>Click 'open' and your page should appear.<p>On Internet Explorer: <br/>Top menu; FILE\\ OPEN\\ BROWSE <br/> Click on your WEBPAGES folder\\ FIRST file<br/>Click 'open' and your page should appear.<br/><p>If the page doesn't open, go back over your notepad typing and make sure that all the HTML tags are correct. Check there are no spaces between tags and internal text; check that all tags are closed; check that you haven't written &lt; HTLM &gt; or &lt; BDDY &gt;.  Your page will work eventually. <p>Make another page. Call it somethingdifferent.html and place it in the same WEBPAGES folder as detailed above.<p>start formatting in <a href=\"webpage2.html\">lesson two</a><br/><a href=\"col3.html\">back to wws index</a> </p></p> </p></p></p></p></p></p></p></p></p></p>"
            ]
          },
          "metadata": {
            "tags": []
          },
          "execution_count": 55
        }
      ]
    },
    {
      "cell_type": "code",
      "metadata": {
        "id": "-jRifaMGgeJX",
        "colab_type": "code",
        "colab": {
          "base_uri": "https://localhost:8080/",
          "height": 54
        },
        "outputId": "3948efa1-b485-4bfd-93ef-0d416fd8028e"
      },
      "source": [
        "info.next_element.next_element"
      ],
      "execution_count": 60,
      "outputs": [
        {
          "output_type": "execute_result",
          "data": {
            "text/plain": [
              "'There are lots of ways to create web pages using already coded programmes. These lessons will teach you how to use the underlying HyperText Markup Language -  HTML. '"
            ]
          },
          "metadata": {
            "tags": []
          },
          "execution_count": 60
        }
      ]
    },
    {
      "cell_type": "code",
      "metadata": {
        "id": "nboAyvQkleCO",
        "colab_type": "code",
        "colab": {
          "base_uri": "https://localhost:8080/",
          "height": 54
        },
        "outputId": "c996b637-8271-4c0f-d203-dc88f7110d07"
      },
      "source": [
        "info.next"
      ],
      "execution_count": 63,
      "outputs": [
        {
          "output_type": "execute_result",
          "data": {
            "text/plain": [
              "<p>There are lots of ways to create web pages using already coded programmes. These lessons will teach you how to use the underlying HyperText Markup Language -  HTML. <br/><p>HTML isn't computer code, but is a language that uses US English to enable texts (words, images, sounds) to be inserted and formatting such as colo(u)r and centre/ering to be written in. The process is fairly simple; the main difficulties often lie in small mistakes - if you slip up while word processing your reader may pick up your typos, but the page will still be legible. However, if your HTML is inaccurate the page may not appear - writing web pages is, at the least, very good practice for proof reading!</p><p>Learning HTML will enable you to:<ul><li>create your own simple pages<li>read and appreciate pages created by others<li>develop an understanding of the creative and literary implications of web-texts<li>have the confidence to branch out into more complex web design </li></li></li></li></ul></p><p>A HTML web page is made up of tags. Tags are placed in brackets like this <b>&lt; tag &gt; </b>. A tag tells the browser how to display information. Most tags need to be opened &lt; tag &gt; and closed &lt; /tag &gt;.<p> To make a simple web page you need to know only four tags:<ul><li>&lt; HTML &gt; tells the browser your page is written in HTML format<li>&lt; HEAD &gt; this is a kind of preface of vital information that doesn't appear on the screen. <li>&lt; TITLE &gt;Write the title of the web page here - this is the information that viewers see on the upper bar of their screen. (I've given this page the title 'webpage1').<li>&lt; BODY &gt;This is where you put the content of your page, the words and pictures that people read on the screen. </li></li></li></li></ul><p>All these tags need to be closed.<h4>EXERCISE</h4><p>Write a simple web page.</p><p> Copy out exactly the HTML below, using a WP program such as Notepad.<br/>Information in <i>italics</i> indicates where you can insert your own text, other information is HTML and needs to be exact. However, make sure there are no spaces between the tag brackets and the text inside.<br/>(Find Notepad by going to the START menu\\ PROGRAMS\\ ACCESSORIES\\ NOTEPAD). <p>&lt; HTML &gt;<br/>&lt; HEAD &gt;<br/>&lt; TITLE &gt;<i> title of page</i>&lt; /TITLE &gt;<br/>&lt; /HEAD &gt;<br/>&lt; BODY&gt;<br/><i> write what you like here: 'my first web page', or a piece about what you are reading, or a few thoughts on the course, or copy out a few words from a book or cornflake packet.  Just type in your words using no extras such as bold, or italics, as these have special HTML tags, although you may use upper and lower case letters and single spaces. </i><br/>&lt; /BODY &gt;<br/>&lt; /HTML &gt;<br/><p>Save the file as 'first.html' (ie. call the file anything at all) It's useful if you start a folder - just as you would for word-processing - and call it something like WEBPAGES, and put your first.html file in the folder.<p>NOW - open your browser.<br/>On Netscape the process is: <br/>  Top menu; FILE\\ OPEN PAGE\\ CHOOSE FILE<br/> Click on your WEBPAGES folder\\ FIRST file<br/>Click 'open' and your page should appear.<p>On Internet Explorer: <br/>Top menu; FILE\\ OPEN\\ BROWSE <br/> Click on your WEBPAGES folder\\ FIRST file<br/>Click 'open' and your page should appear.<br/><p>If the page doesn't open, go back over your notepad typing and make sure that all the HTML tags are correct. Check there are no spaces between tags and internal text; check that all tags are closed; check that you haven't written &lt; HTLM &gt; or &lt; BDDY &gt;.  Your page will work eventually. <p>Make another page. Call it somethingdifferent.html and place it in the same WEBPAGES folder as detailed above.<p>start formatting in <a href=\"webpage2.html\">lesson two</a><br/><a href=\"col3.html\">back to wws index</a> </p></p> </p></p></p></p></p></p></p></p></p></p>"
            ]
          },
          "metadata": {
            "tags": []
          },
          "execution_count": 63
        }
      ]
    },
    {
      "cell_type": "code",
      "metadata": {
        "id": "QSjwe4mtls5z",
        "colab_type": "code",
        "colab": {
          "base_uri": "https://localhost:8080/",
          "height": 54
        },
        "outputId": "b9274c9e-6fc4-420e-bf35-d4bbf768ae04"
      },
      "source": [
        "info.next.next"
      ],
      "execution_count": 64,
      "outputs": [
        {
          "output_type": "execute_result",
          "data": {
            "text/plain": [
              "'There are lots of ways to create web pages using already coded programmes. These lessons will teach you how to use the underlying HyperText Markup Language -  HTML. '"
            ]
          },
          "metadata": {
            "tags": []
          },
          "execution_count": 64
        }
      ]
    },
    {
      "cell_type": "code",
      "metadata": {
        "id": "X0xO5JCAlxC7",
        "colab_type": "code",
        "colab": {
          "base_uri": "https://localhost:8080/",
          "height": 54
        },
        "outputId": "21c6e43f-8f4e-4bea-f496-201fe413b905"
      },
      "source": [
        "info.next.next.next.next"
      ],
      "execution_count": 66,
      "outputs": [
        {
          "output_type": "execute_result",
          "data": {
            "text/plain": [
              "<p>HTML isn't computer code, but is a language that uses US English to enable texts (words, images, sounds) to be inserted and formatting such as colo(u)r and centre/ering to be written in. The process is fairly simple; the main difficulties often lie in small mistakes - if you slip up while word processing your reader may pick up your typos, but the page will still be legible. However, if your HTML is inaccurate the page may not appear - writing web pages is, at the least, very good practice for proof reading!</p>"
            ]
          },
          "metadata": {
            "tags": []
          },
          "execution_count": 66
        }
      ]
    },
    {
      "cell_type": "code",
      "metadata": {
        "id": "5ca2RHatl6Rx",
        "colab_type": "code",
        "colab": {
          "base_uri": "https://localhost:8080/",
          "height": 54
        },
        "outputId": "7f5848b5-369c-4567-8c85-56bdc232024f"
      },
      "source": [
        "info.next_element.next_element.next_element.next_element"
      ],
      "execution_count": 68,
      "outputs": [
        {
          "output_type": "execute_result",
          "data": {
            "text/plain": [
              "<p>HTML isn't computer code, but is a language that uses US English to enable texts (words, images, sounds) to be inserted and formatting such as colo(u)r and centre/ering to be written in. The process is fairly simple; the main difficulties often lie in small mistakes - if you slip up while word processing your reader may pick up your typos, but the page will still be legible. However, if your HTML is inaccurate the page may not appear - writing web pages is, at the least, very good practice for proof reading!</p>"
            ]
          },
          "metadata": {
            "tags": []
          },
          "execution_count": 68
        }
      ]
    },
    {
      "cell_type": "markdown",
      "metadata": {
        "id": "NjY78o_smhJN",
        "colab_type": "text"
      },
      "source": [
        "ลอง"
      ]
    },
    {
      "cell_type": "code",
      "metadata": {
        "id": "8yFsFElzmD6U",
        "colab_type": "code",
        "colab": {
          "base_uri": "https://localhost:8080/",
          "height": 54
        },
        "outputId": "16b9e6f8-25e7-405e-df6d-c61ae13ea70d"
      },
      "source": [
        "order = body.find('ul')\n",
        "order"
      ],
      "execution_count": 71,
      "outputs": [
        {
          "output_type": "execute_result",
          "data": {
            "text/plain": [
              "<ul><li>create your own simple pages<li>read and appreciate pages created by others<li>develop an understanding of the creative and literary implications of web-texts<li>have the confidence to branch out into more complex web design </li></li></li></li></ul>"
            ]
          },
          "metadata": {
            "tags": []
          },
          "execution_count": 71
        }
      ]
    },
    {
      "cell_type": "code",
      "metadata": {
        "id": "K60raEsHnMAu",
        "colab_type": "code",
        "colab": {
          "base_uri": "https://localhost:8080/",
          "height": 34
        },
        "outputId": "a43086b6-81e8-4331-c780-3c0fef07029f"
      },
      "source": [
        "order.previous_sibling"
      ],
      "execution_count": 72,
      "outputs": [
        {
          "output_type": "execute_result",
          "data": {
            "text/plain": [
              "'Learning HTML will enable you to:'"
            ]
          },
          "metadata": {
            "tags": []
          },
          "execution_count": 72
        }
      ]
    },
    {
      "cell_type": "code",
      "metadata": {
        "id": "gAuv9lX3nZBX",
        "colab_type": "code",
        "colab": {
          "base_uri": "https://localhost:8080/",
          "height": 54
        },
        "outputId": "dbf77bb0-a1cf-4c6f-fe0b-c5e2017e2ea3"
      },
      "source": [
        "order"
      ],
      "execution_count": 76,
      "outputs": [
        {
          "output_type": "execute_result",
          "data": {
            "text/plain": [
              "<ul><li>create your own simple pages<li>read and appreciate pages created by others<li>develop an understanding of the creative and literary implications of web-texts<li>have the confidence to branch out into more complex web design </li></li></li></li></ul>"
            ]
          },
          "metadata": {
            "tags": []
          },
          "execution_count": 76
        }
      ]
    }
  ]
}